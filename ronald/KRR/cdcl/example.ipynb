{
 "cells": [
  {
   "cell_type": "markdown",
   "id": "83b5fd89",
   "metadata": {},
   "source": [
    "# Observing the behavior of a DPLL and a CDCL SAT solver\n",
    "\n",
    "Let's see how we can observe how a DPLL solver and a CDCL solver work, and the difference between them."
   ]
  },
  {
   "cell_type": "code",
   "execution_count": 1,
   "id": "cee5c92e",
   "metadata": {},
   "outputs": [],
   "source": [
    "from cdcl_solver import CDCLSolver\n",
    "from dpll_solver import DPLLSolver"
   ]
  },
  {
   "cell_type": "markdown",
   "id": "64469d5f",
   "metadata": {},
   "source": [
    "## Load a formula\n",
    "\n",
    "Let's load a CNF formula for the solvers to run on."
   ]
  },
  {
   "cell_type": "code",
   "execution_count": 2,
   "id": "f95ac039",
   "metadata": {},
   "outputs": [],
   "source": [
    "cnf_path = \"example2.cnf\""
   ]
  },
  {
   "cell_type": "markdown",
   "id": "37513a6f",
   "metadata": {},
   "source": [
    "The CNF formula should be in *DIMACS CNF format*. This is a plain text file that consists of the following:\n",
    "- It may (but does not have to) start with some comment lines, that each start with `c `, and these are ignored by the solver.\n",
    "- Then there is a header line of the form `p cnf NUM_VARS NUM_CLAUSES`, where `NUM_VARS` is the number of variables occurring in the formula (and these should be numbered 1, 2, ..., `NUM_VARS`), and where `NUM_CLAUSES` is the number of clauses in the formula.\n",
    "- The following lines then encode a clause each. Each clause is encoded by writing the literals occurring in it, followed by a `0`, all separated by single spaces. Literals are encoded by integers: a positive integer `i` encodes the positive literal $x_i$, and a negative integer `-i` encodes the negative literal $\\neg x_i$.\n",
    "  * For example, the clause $(x_1 \\vee \\neg x_2 \\vee x_3)$ is encoded as `1 -2 3 0`."
   ]
  },
  {
   "cell_type": "markdown",
   "id": "21355888",
   "metadata": {},
   "source": [
    "Let's inspect the example formula that we loaded to see what DIMACS CNF format looks like."
   ]
  },
  {
   "cell_type": "code",
   "execution_count": 3,
   "id": "21216d75",
   "metadata": {},
   "outputs": [
    {
     "name": "stdout",
     "output_type": "stream",
     "text": [
      "c This is an example CNF formula that nicely shows the difference\n",
      "c in behavior between a DPLL and a CDCL solver,\n",
      "c when using the ORDERED decision heuristic.\n",
      "c\n",
      "c It has 8 variables and 9 clauses.\n",
      "c\n",
      "p cnf 8 9\n",
      "-3 -4 -5 6 0\n",
      "-1 -6 7 0\n",
      "-6 -8 0\n",
      "-1 -7 8 0\n",
      "-1 -3 6 0\n",
      "-1 -4 6 0\n",
      "-1 -5 6 0\n",
      "-1 3 4 5 6 -7 0\n",
      "-1 -2 3 4 5 6 7 0\n"
     ]
    }
   ],
   "source": [
    "with open(cnf_path, \"r\", encoding=\"utf-8\") as source_file:\n",
    "    for line in source_file.readlines():\n",
    "        print(line, end=\"\")"
   ]
  },
  {
   "cell_type": "markdown",
   "id": "d0dc0922",
   "metadata": {},
   "source": [
    "## Running the DPLL solver\n",
    "\n",
    "Let's now call the DPLL solver on our example formula.\n",
    "\n",
    "Our implementation of the DPLL solver uses the `\"ORDERED\"` branching heuristic. This means that whenever the solver cannot propagate any further, it takes the variable with the smallest index among the still unassigned variables, and branches by setting this variable to True.\n",
    "\n",
    "When we run the algorithm (with `verbose=True`), it gives us a trace of what happened along the way, and a final answer (`SAT` with a satisfying assignment, or `UNSAT`)."
   ]
  },
  {
   "cell_type": "code",
   "execution_count": 4,
   "id": "be67a2f6",
   "metadata": {},
   "outputs": [
    {
     "name": "stdout",
     "output_type": "stream",
     "text": [
      "> Decision:    1    \u001b[37m(level: 1)\u001b[0m\n",
      "\u001b[37m  Current assignment: [1]\u001b[0m\n",
      "> Decision:    2    \u001b[37m(level: 2)\u001b[0m\n",
      "\u001b[37m  Current assignment: [1, 2]\u001b[0m\n",
      "> Decision:    3    \u001b[37m(level: 3)\u001b[0m\n",
      "\u001b[37m  Current assignment: [1, 2, 3]\u001b[0m\n",
      "* UP:          6    \u001b[37m(level: 3)\u001b[0m\n",
      "\u001b[37m  Current assignment: [1, 2, 3, 6]\u001b[0m\n",
      "* UP:          -8   \u001b[37m(level: 3)\u001b[0m\n",
      "\u001b[37m  Current assignment: [1, 2, 3, 6, -8]\u001b[0m\n",
      "* UP:          7    \u001b[37m(level: 3)\u001b[0m\n",
      "\u001b[37m  Current assignment: [1, 2, 3, 6, -8, 7]\u001b[0m\n",
      "= \u001b[31mCONFLICT!\u001b[0m\n",
      "\u001b[34m< Backtracking to level 2\u001b[0m\n",
      "* Propagated:  -3   \u001b[37m(level: 2)\u001b[0m\n",
      "\u001b[37m  Current assignment: [1, 2, -3]\u001b[0m\n",
      "> Decision:    4    \u001b[37m(level: 3)\u001b[0m\n",
      "\u001b[37m  Current assignment: [1, 2, -3, 4]\u001b[0m\n",
      "* UP:          6    \u001b[37m(level: 3)\u001b[0m\n",
      "\u001b[37m  Current assignment: [1, 2, -3, 4, 6]\u001b[0m\n",
      "* UP:          -8   \u001b[37m(level: 3)\u001b[0m\n",
      "\u001b[37m  Current assignment: [1, 2, -3, 4, 6, -8]\u001b[0m\n",
      "* UP:          7    \u001b[37m(level: 3)\u001b[0m\n",
      "\u001b[37m  Current assignment: [1, 2, -3, 4, 6, -8, 7]\u001b[0m\n",
      "= \u001b[31mCONFLICT!\u001b[0m\n",
      "\u001b[34m< Backtracking to level 2\u001b[0m\n",
      "* Propagated:  -4   \u001b[37m(level: 2)\u001b[0m\n",
      "\u001b[37m  Current assignment: [1, 2, -3, -4]\u001b[0m\n",
      "> Decision:    5    \u001b[37m(level: 3)\u001b[0m\n",
      "\u001b[37m  Current assignment: [1, 2, -3, -4, 5]\u001b[0m\n",
      "* UP:          6    \u001b[37m(level: 3)\u001b[0m\n",
      "\u001b[37m  Current assignment: [1, 2, -3, -4, 5, 6]\u001b[0m\n",
      "* UP:          -8   \u001b[37m(level: 3)\u001b[0m\n",
      "\u001b[37m  Current assignment: [1, 2, -3, -4, 5, 6, -8]\u001b[0m\n",
      "* UP:          7    \u001b[37m(level: 3)\u001b[0m\n",
      "\u001b[37m  Current assignment: [1, 2, -3, -4, 5, 6, -8, 7]\u001b[0m\n",
      "= \u001b[31mCONFLICT!\u001b[0m\n",
      "\u001b[34m< Backtracking to level 2\u001b[0m\n",
      "* Propagated:  -5   \u001b[37m(level: 2)\u001b[0m\n",
      "\u001b[37m  Current assignment: [1, 2, -3, -4, -5]\u001b[0m\n",
      "> Decision:    6    \u001b[37m(level: 3)\u001b[0m\n",
      "\u001b[37m  Current assignment: [1, 2, -3, -4, -5, 6]\u001b[0m\n",
      "* UP:          -8   \u001b[37m(level: 3)\u001b[0m\n",
      "\u001b[37m  Current assignment: [1, 2, -3, -4, -5, 6, -8]\u001b[0m\n",
      "* UP:          7    \u001b[37m(level: 3)\u001b[0m\n",
      "\u001b[37m  Current assignment: [1, 2, -3, -4, -5, 6, -8, 7]\u001b[0m\n",
      "= \u001b[31mCONFLICT!\u001b[0m\n",
      "\u001b[34m< Backtracking to level 2\u001b[0m\n",
      "* Propagated:  -6   \u001b[37m(level: 2)\u001b[0m\n",
      "\u001b[37m  Current assignment: [1, 2, -3, -4, -5, -6]\u001b[0m\n",
      "* UP:          -7   \u001b[37m(level: 2)\u001b[0m\n",
      "\u001b[37m  Current assignment: [1, 2, -3, -4, -5, -6, -7]\u001b[0m\n",
      "= \u001b[31mCONFLICT!\u001b[0m\n",
      "\u001b[34m< Backtracking to level 1\u001b[0m\n",
      "* Propagated:  -2   \u001b[37m(level: 1)\u001b[0m\n",
      "\u001b[37m  Current assignment: [1, -2]\u001b[0m\n",
      "> Decision:    3    \u001b[37m(level: 2)\u001b[0m\n",
      "\u001b[37m  Current assignment: [1, -2, 3]\u001b[0m\n",
      "* UP:          6    \u001b[37m(level: 2)\u001b[0m\n",
      "\u001b[37m  Current assignment: [1, -2, 3, 6]\u001b[0m\n",
      "* UP:          -8   \u001b[37m(level: 2)\u001b[0m\n",
      "\u001b[37m  Current assignment: [1, -2, 3, 6, -8]\u001b[0m\n",
      "* UP:          7    \u001b[37m(level: 2)\u001b[0m\n",
      "\u001b[37m  Current assignment: [1, -2, 3, 6, -8, 7]\u001b[0m\n",
      "= \u001b[31mCONFLICT!\u001b[0m\n",
      "\u001b[34m< Backtracking to level 1\u001b[0m\n",
      "* Propagated:  -3   \u001b[37m(level: 1)\u001b[0m\n",
      "\u001b[37m  Current assignment: [1, -2, -3]\u001b[0m\n",
      "> Decision:    4    \u001b[37m(level: 2)\u001b[0m\n",
      "\u001b[37m  Current assignment: [1, -2, -3, 4]\u001b[0m\n",
      "* UP:          6    \u001b[37m(level: 2)\u001b[0m\n",
      "\u001b[37m  Current assignment: [1, -2, -3, 4, 6]\u001b[0m\n",
      "* UP:          -8   \u001b[37m(level: 2)\u001b[0m\n",
      "\u001b[37m  Current assignment: [1, -2, -3, 4, 6, -8]\u001b[0m\n",
      "* UP:          7    \u001b[37m(level: 2)\u001b[0m\n",
      "\u001b[37m  Current assignment: [1, -2, -3, 4, 6, -8, 7]\u001b[0m\n",
      "= \u001b[31mCONFLICT!\u001b[0m\n",
      "\u001b[34m< Backtracking to level 1\u001b[0m\n",
      "* Propagated:  -4   \u001b[37m(level: 1)\u001b[0m\n",
      "\u001b[37m  Current assignment: [1, -2, -3, -4]\u001b[0m\n",
      "> Decision:    5    \u001b[37m(level: 2)\u001b[0m\n",
      "\u001b[37m  Current assignment: [1, -2, -3, -4, 5]\u001b[0m\n",
      "* UP:          6    \u001b[37m(level: 2)\u001b[0m\n",
      "\u001b[37m  Current assignment: [1, -2, -3, -4, 5, 6]\u001b[0m\n",
      "* UP:          -8   \u001b[37m(level: 2)\u001b[0m\n",
      "\u001b[37m  Current assignment: [1, -2, -3, -4, 5, 6, -8]\u001b[0m\n",
      "* UP:          7    \u001b[37m(level: 2)\u001b[0m\n",
      "\u001b[37m  Current assignment: [1, -2, -3, -4, 5, 6, -8, 7]\u001b[0m\n",
      "= \u001b[31mCONFLICT!\u001b[0m\n",
      "\u001b[34m< Backtracking to level 1\u001b[0m\n",
      "* Propagated:  -5   \u001b[37m(level: 1)\u001b[0m\n",
      "\u001b[37m  Current assignment: [1, -2, -3, -4, -5]\u001b[0m\n",
      "> Decision:    6    \u001b[37m(level: 2)\u001b[0m\n",
      "\u001b[37m  Current assignment: [1, -2, -3, -4, -5, 6]\u001b[0m\n",
      "* UP:          -8   \u001b[37m(level: 2)\u001b[0m\n",
      "\u001b[37m  Current assignment: [1, -2, -3, -4, -5, 6, -8]\u001b[0m\n",
      "* UP:          7    \u001b[37m(level: 2)\u001b[0m\n",
      "\u001b[37m  Current assignment: [1, -2, -3, -4, -5, 6, -8, 7]\u001b[0m\n",
      "= \u001b[31mCONFLICT!\u001b[0m\n",
      "\u001b[34m< Backtracking to level 1\u001b[0m\n",
      "* Propagated:  -6   \u001b[37m(level: 1)\u001b[0m\n",
      "\u001b[37m  Current assignment: [1, -2, -3, -4, -5, -6]\u001b[0m\n",
      "* UP:          -7   \u001b[37m(level: 1)\u001b[0m\n",
      "\u001b[37m  Current assignment: [1, -2, -3, -4, -5, -6, -7]\u001b[0m\n",
      "> Decision:    8    \u001b[37m(level: 2)\u001b[0m\n",
      "\u001b[37m  Current assignment: [1, -2, -3, -4, -5, -6, -7, 8]\u001b[0m\n",
      "\u001b[32mSAT\u001b[0m\n"
     ]
    }
   ],
   "source": [
    "solver = DPLLSolver(\n",
    "    verbose=True,\n",
    ")\n",
    "solver.solve(cnf_path)"
   ]
  },
  {
   "cell_type": "markdown",
   "id": "bf716203",
   "metadata": {},
   "source": [
    "So what does the different parts of this trace mean?\n",
    "- The final answer, at the very bottom, is `SAT`, meaning that the formula is satisfiable. The assignment directly before it is a satisfying assignment.\n",
    "- Throughout the search, the algorithm keeps track of a current partial assignment.\n",
    "- Whenever the current assignment allows the algorithm to deduce further literals using unit propagation, this is indicated with `* UP`.\n",
    "- If no further propagation is possible, the algorithm branches by setting a literal to true (indicated with `> Decision`).\n",
    "- The *decision level* is the current number of decisions made that the algorithm can still backtrack on. This is indicated with `level` at each line.\n",
    "- Whenever the current assignment falsifies the formula (`CONFLICT`), the algorithm backtracks by undoing the most recent decision, and concluding that the opposite of this decision should hold (`Propagated`)."
   ]
  },
  {
   "cell_type": "markdown",
   "id": "cd778d98",
   "metadata": {},
   "source": [
    "## Running the CDCL solver\n",
    "\n",
    "Let's now call the CDCL solver on our example formula.\n",
    "\n",
    "Let's start by using the same branching heuristic (`\"ORDERED\"`), and by not using any restarts."
   ]
  },
  {
   "cell_type": "code",
   "execution_count": 5,
   "id": "030d6315",
   "metadata": {},
   "outputs": [
    {
     "name": "stdout",
     "output_type": "stream",
     "text": [
      "> Decision:    1    \u001b[37m(level: 1)\u001b[0m\n",
      "\u001b[37m  Current assignment: [1]\u001b[0m\n",
      "> Decision:    2    \u001b[37m(level: 2)\u001b[0m\n",
      "\u001b[37m  Current assignment: [1, 2]\u001b[0m\n",
      "> Decision:    3    \u001b[37m(level: 3)\u001b[0m\n",
      "\u001b[37m  Current assignment: [1, 2, 3]\u001b[0m\n",
      "* UP:          6    \u001b[37m(level: 3)\u001b[0m\n",
      "\u001b[37m  Current assignment: [1, 2, 3, 6]\u001b[0m\n",
      "* UP:          -8   \u001b[37m(level: 3)\u001b[0m\n",
      "\u001b[37m  Current assignment: [1, 2, 3, 6, -8]\u001b[0m\n",
      "* UP:          7    \u001b[37m(level: 3)\u001b[0m\n",
      "\u001b[37m  Current assignment: [1, 2, 3, 6, -8, 7]\u001b[0m\n",
      "= \u001b[31mCONFLICT!\u001b[0m Learned clause:\u001b[35m [-1, -6] \u001b[0m\n",
      "\u001b[34m< Backjumping to level 1\u001b[0m\n",
      "* Propagated:  -6   \u001b[37m(level: 1)\u001b[0m\n",
      "\u001b[37m  Current assignment: [1, -6]\u001b[0m\n",
      "* UP:          -3   \u001b[37m(level: 1)\u001b[0m\n",
      "\u001b[37m  Current assignment: [1, -6, -3]\u001b[0m\n",
      "* UP:          -4   \u001b[37m(level: 1)\u001b[0m\n",
      "\u001b[37m  Current assignment: [1, -6, -3, -4]\u001b[0m\n",
      "* UP:          -5   \u001b[37m(level: 1)\u001b[0m\n",
      "\u001b[37m  Current assignment: [1, -6, -3, -4, -5]\u001b[0m\n",
      "* UP:          -7   \u001b[37m(level: 1)\u001b[0m\n",
      "\u001b[37m  Current assignment: [1, -6, -3, -4, -5, -7]\u001b[0m\n",
      "* UP:          -2   \u001b[37m(level: 1)\u001b[0m\n",
      "\u001b[37m  Current assignment: [1, -6, -3, -4, -5, -7, -2]\u001b[0m\n",
      "> Decision:    8    \u001b[37m(level: 2)\u001b[0m\n",
      "\u001b[37m  Current assignment: [1, -6, -3, -4, -5, -7, -2, 8]\u001b[0m\n",
      "\u001b[32mSAT\u001b[0m\n"
     ]
    }
   ],
   "source": [
    "solver = CDCLSolver(\n",
    "    branching=\"ORDERED\",\n",
    "    restart=None,\n",
    "    verbose=True,\n",
    ")\n",
    "solver.solve(cnf_path)"
   ]
  },
  {
   "cell_type": "markdown",
   "id": "229318a1",
   "metadata": {},
   "source": [
    "The difference with the DPLL algorithm is that when a conflict is reached, the algorithm doesn't necessarily undo the most recent decision. Instead, it analyzes the conflict, learns a new clause (`Learned clause`), and uses this clause to *backjump* as much as possible using this learned clause."
   ]
  },
  {
   "cell_type": "markdown",
   "id": "9abca80f",
   "metadata": {},
   "source": [
    "### Different branching and restart strategies\n",
    "\n",
    "Our implementation of the CDCL solver also supports different heuristics for branching and for restarts.\n",
    "\n",
    "The two branching heuristics (`\"VSIDS\"` and `\"MINISAT\"`) both keep track of how often variables/literals occur in the formula, and how often variables/literals are involved in a conflict, and decide which variable to set based on this information (in slightly different ways)."
   ]
  },
  {
   "cell_type": "code",
   "execution_count": 6,
   "id": "0c8e01f2",
   "metadata": {},
   "outputs": [
    {
     "name": "stdout",
     "output_type": "stream",
     "text": [
      "> Decision:    -1   \u001b[37m(level: 1)\u001b[0m\n",
      "\u001b[37m  Current assignment: [-1]\u001b[0m\n",
      "> Decision:    6    \u001b[37m(level: 2)\u001b[0m\n",
      "\u001b[37m  Current assignment: [-1, 6]\u001b[0m\n",
      "* UP:          -8   \u001b[37m(level: 2)\u001b[0m\n",
      "\u001b[37m  Current assignment: [-1, 6, -8]\u001b[0m\n",
      "> Decision:    -5   \u001b[37m(level: 3)\u001b[0m\n",
      "\u001b[37m  Current assignment: [-1, 6, -8, -5]\u001b[0m\n",
      "> Decision:    4    \u001b[37m(level: 4)\u001b[0m\n",
      "\u001b[37m  Current assignment: [-1, 6, -8, -5, 4]\u001b[0m\n",
      "> Decision:    -7   \u001b[37m(level: 5)\u001b[0m\n",
      "\u001b[37m  Current assignment: [-1, 6, -8, -5, 4, -7]\u001b[0m\n",
      "> Decision:    -3   \u001b[37m(level: 6)\u001b[0m\n",
      "\u001b[37m  Current assignment: [-1, 6, -8, -5, 4, -7, -3]\u001b[0m\n",
      "> Decision:    -2   \u001b[37m(level: 7)\u001b[0m\n",
      "\u001b[37m  Current assignment: [-1, 6, -8, -5, 4, -7, -3, -2]\u001b[0m\n",
      "\u001b[32mSAT\u001b[0m\n"
     ]
    }
   ],
   "source": [
    "solver = CDCLSolver(\n",
    "    branching=\"VSIDS\",\n",
    "    restart=None,\n",
    "    verbose=True,\n",
    ")\n",
    "solver.solve(cnf_path)"
   ]
  },
  {
   "cell_type": "code",
   "execution_count": 7,
   "id": "17e1ed0e",
   "metadata": {},
   "outputs": [
    {
     "name": "stdout",
     "output_type": "stream",
     "text": [
      "> Decision:    -6   \u001b[37m(level: 1)\u001b[0m\n",
      "\u001b[37m  Current assignment: [-6]\u001b[0m\n",
      "> Decision:    -1   \u001b[37m(level: 2)\u001b[0m\n",
      "\u001b[37m  Current assignment: [-6, -1]\u001b[0m\n",
      "> Decision:    -7   \u001b[37m(level: 3)\u001b[0m\n",
      "\u001b[37m  Current assignment: [-6, -1, -7]\u001b[0m\n",
      "> Decision:    -4   \u001b[37m(level: 4)\u001b[0m\n",
      "\u001b[37m  Current assignment: [-6, -1, -7, -4]\u001b[0m\n",
      "> Decision:    -5   \u001b[37m(level: 5)\u001b[0m\n",
      "\u001b[37m  Current assignment: [-6, -1, -7, -4, -5]\u001b[0m\n",
      "> Decision:    -3   \u001b[37m(level: 6)\u001b[0m\n",
      "\u001b[37m  Current assignment: [-6, -1, -7, -4, -5, -3]\u001b[0m\n",
      "> Decision:    -8   \u001b[37m(level: 7)\u001b[0m\n",
      "\u001b[37m  Current assignment: [-6, -1, -7, -4, -5, -3, -8]\u001b[0m\n",
      "> Decision:    -2   \u001b[37m(level: 8)\u001b[0m\n",
      "\u001b[37m  Current assignment: [-6, -1, -7, -4, -5, -3, -8, -2]\u001b[0m\n",
      "\u001b[32mSAT\u001b[0m\n"
     ]
    }
   ],
   "source": [
    "solver = CDCLSolver(\n",
    "    branching=\"MINISAT\",\n",
    "    restart=None,\n",
    "    verbose=True,\n",
    ")\n",
    "solver.solve(cnf_path)"
   ]
  },
  {
   "cell_type": "markdown",
   "id": "74436511",
   "metadata": {},
   "source": [
    "The implementation of the CDCL solver also supports two different restart strategies (`\"GEOMETRIC\"` and `\"LUBY\"`). These both tell the solver to restart the search (while keeping learned clauses) after a certain amount of steps. The number of steps between restarts increases (roughly speaking).\n",
    "\n",
    "For small examples, this doesn't make a difference, as the number of steps between restarts starts at 512, and increases from there."
   ]
  },
  {
   "cell_type": "code",
   "execution_count": 8,
   "id": "02339bd8",
   "metadata": {},
   "outputs": [
    {
     "name": "stdout",
     "output_type": "stream",
     "text": [
      "> Decision:    1    \u001b[37m(level: 1)\u001b[0m\n",
      "\u001b[37m  Current assignment: [1]\u001b[0m\n",
      "> Decision:    2    \u001b[37m(level: 2)\u001b[0m\n",
      "\u001b[37m  Current assignment: [1, 2]\u001b[0m\n",
      "> Decision:    3    \u001b[37m(level: 3)\u001b[0m\n",
      "\u001b[37m  Current assignment: [1, 2, 3]\u001b[0m\n",
      "* UP:          6    \u001b[37m(level: 3)\u001b[0m\n",
      "\u001b[37m  Current assignment: [1, 2, 3, 6]\u001b[0m\n",
      "* UP:          -8   \u001b[37m(level: 3)\u001b[0m\n",
      "\u001b[37m  Current assignment: [1, 2, 3, 6, -8]\u001b[0m\n",
      "* UP:          7    \u001b[37m(level: 3)\u001b[0m\n",
      "\u001b[37m  Current assignment: [1, 2, 3, 6, -8, 7]\u001b[0m\n",
      "= \u001b[31mCONFLICT!\u001b[0m Learned clause:\u001b[35m [-1, -6] \u001b[0m\n",
      "\u001b[34m< Backjumping to level 1\u001b[0m\n",
      "* Propagated:  -6   \u001b[37m(level: 1)\u001b[0m\n",
      "\u001b[37m  Current assignment: [1, -6]\u001b[0m\n",
      "* UP:          -3   \u001b[37m(level: 1)\u001b[0m\n",
      "\u001b[37m  Current assignment: [1, -6, -3]\u001b[0m\n",
      "* UP:          -4   \u001b[37m(level: 1)\u001b[0m\n",
      "\u001b[37m  Current assignment: [1, -6, -3, -4]\u001b[0m\n",
      "* UP:          -5   \u001b[37m(level: 1)\u001b[0m\n",
      "\u001b[37m  Current assignment: [1, -6, -3, -4, -5]\u001b[0m\n",
      "* UP:          -7   \u001b[37m(level: 1)\u001b[0m\n",
      "\u001b[37m  Current assignment: [1, -6, -3, -4, -5, -7]\u001b[0m\n",
      "* UP:          -2   \u001b[37m(level: 1)\u001b[0m\n",
      "\u001b[37m  Current assignment: [1, -6, -3, -4, -5, -7, -2]\u001b[0m\n",
      "> Decision:    8    \u001b[37m(level: 2)\u001b[0m\n",
      "\u001b[37m  Current assignment: [1, -6, -3, -4, -5, -7, -2, 8]\u001b[0m\n",
      "\u001b[32mSAT\u001b[0m\n"
     ]
    }
   ],
   "source": [
    "solver = CDCLSolver(\n",
    "    branching=\"ORDERED\",\n",
    "    restart=\"LUBY\",\n",
    "    verbose=True,\n",
    ")\n",
    "solver.solve(cnf_path)"
   ]
  }
 ],
 "metadata": {
  "kernelspec": {
   "display_name": "Python 3 (ipykernel)",
   "language": "python",
   "name": "python3"
  },
  "language_info": {
   "codemirror_mode": {
    "name": "ipython",
    "version": 3
   },
   "file_extension": ".py",
   "mimetype": "text/x-python",
   "name": "python",
   "nbconvert_exporter": "python",
   "pygments_lexer": "ipython3",
   "version": "3.10.7"
  }
 },
 "nbformat": 4,
 "nbformat_minor": 5
}
