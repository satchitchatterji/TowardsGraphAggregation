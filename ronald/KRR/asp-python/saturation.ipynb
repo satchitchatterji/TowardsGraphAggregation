{
 "cells": [
  {
   "cell_type": "markdown",
   "metadata": {},
   "source": [
    "# Introduction to 'saturation'\n",
    "\n",
    "This is a small example to introduce the technique of saturation. This is an advanced modelling technique in ASP, that allows you to model [coNP](https://en.wikipedia.org/wiki/Co-NP)-type problems.\n",
    "\n",
    "Let's start by setting up the basics."
   ]
  },
  {
   "cell_type": "code",
   "execution_count": 1,
   "metadata": {},
   "outputs": [],
   "source": [
    "import clingo\n",
    "\n",
    "def print_answer_sets(program):\n",
    "    \n",
    "    control = clingo.Control()\n",
    "    control.add(\"base\", [], program)\n",
    "    control.ground([(\"base\", [])])\n",
    "    \n",
    "    def on_model(model):\n",
    "        sorted_model = [str(atom) for atom in model.symbols(shown=True)]\n",
    "        sorted_model.sort()\n",
    "        print(f\"Answer set: {{{', '.join(sorted_model)}}}\")\n",
    "    \n",
    "    control.configuration.solve.models = 0\n",
    "    answer = control.solve(on_model=on_model)\n",
    "    \n",
    "    if answer.satisfiable == False:\n",
    "        print(\"No answer sets\")"
   ]
  },
  {
   "cell_type": "markdown",
   "metadata": {},
   "source": [
    "## Example\n",
    "\n",
    "To explain the technique of saturation, we'll use the example problem of deciding if a given propositional logic formula in CNF is **un**satisfiable.\n",
    "\n",
    "The typical approach is to express satisfiability, in the sense that we construct an program *P* whose answer sets correspond to satisfying assignments, and thus there is at least one answer set if and only if the formula is satisfiable.\n",
    "\n",
    "We will now use saturation to construct a program *P* that has an answer set if and only if the propositional logic formula is **unsatisfiable**.\n",
    "\n",
    "\"What's the point?\" you may ask. Indeed, for the simple example of satisfiability we wouldn't need this complicated solution. But there are some more complicated problems that we can only express using this more complicated method (in combination with the typical modelling of NP-type problems).\n",
    "\n",
    "So let's take a simple example propositional formula $\\varphi$ in CNF:\n",
    "\n",
    "$$ \\varphi = (x_1 \\vee x_2) \\wedge (x_1 \\vee \\neg x_2) \\wedge (\\neg x_1 \\vee x_2) \\wedge (\\neg x_1 \\vee \\neg x_2), $$\n",
    "\n",
    "and let's encode this formula using some facts."
   ]
  },
  {
   "cell_type": "code",
   "execution_count": 2,
   "metadata": {},
   "outputs": [],
   "source": [
    "asp_program = \"\"\"\n",
    "    % Declare variables\n",
    "    var(p(1..2)).\n",
    "\n",
    "    % Declare formula\n",
    "    % Clause 1: p(1) OR p(2)\n",
    "    clause(1,pos(p(1))).\n",
    "    clause(1,pos(p(2))).\n",
    "\n",
    "    % Clause 2: ~p(1) OR p(2)\n",
    "    clause(2,neg(p(1))).\n",
    "    clause(2,pos(p(2))).\n",
    "\n",
    "    % Clause 3: p(1) OR ~p(2)\n",
    "    clause(3,pos(p(1))).\n",
    "    clause(3,neg(p(2))).\n",
    "\n",
    "    % Clause 4: ~p(1) OR ~p(2)\n",
    "    clause(4,neg(p(1))).\n",
    "    clause(4,neg(p(2))).\n",
    "    \n",
    "    % Auxiliary predicate with just clause numbers\n",
    "    clause(C) :- clause(C,_).\n",
    "    \n",
    "    % Auxiliary predicate to negate literals\n",
    "    negate(pos(V),neg(V)) :- var(V).\n",
    "    negate(neg(V),pos(V)) :- var(V).\n",
    "\"\"\""
   ]
  },
  {
   "cell_type": "markdown",
   "metadata": {},
   "source": [
    "## Saturation in a nutshell\n",
    "\n",
    "The main ideas behind the technique of saturation are the following.\n",
    "- We use rules with disjunction in the head to generate a search space that includes all candidate solutions.\n",
    "- We introduce some rules that check, for everything in this search space, whether it is *incorrect*.\n",
    "  - Incorrect means that it does not correspond to a solution.\n",
    "- We add some rules that enforce that for every incorrect option, all atoms involved in this entire process are true.\n",
    "  - This is what the word 'saturation' refers to: making all involved atoms/facts true.\n",
    "- Finally, we add a constraint that states that any answer set must be saturated.\n",
    "\n",
    "This has the effect that there can only be an answer set if there is **no solution**.\n",
    "\n",
    "If there is no solution (in other words, the search space contains only incorrect options), then the rules in the program enforce saturation. We must select at least one option in the search space, and whichever one we pick will lead to saturation.\n",
    "\n",
    "If there is some solution (in other words, the search space contains some correct option), then there cannot be an answer set. Why is this? This is because the definition of answer sets says that an answer set must be a *minimal* model of its own reduct. Because of the last constraint, the only candidate for an answer set is the saturated set (i.e., the set with all atoms true). But this is not a minimal model, because there is a smaller model (namely, the one that corresponds to some correct option in the search space).\n",
    "\n",
    "## Back to our example\n",
    "\n",
    "Let's run through the steps involved in saturation for our example of unsatisfiability.\n",
    "\n",
    "The first step is to use some rules with disjunction in the head to generate a search space. Our candidate solutions are the truth assignments to the variables in $\\varphi$, so we'll generate a search space that includes this."
   ]
  },
  {
   "cell_type": "code",
   "execution_count": 3,
   "metadata": {},
   "outputs": [],
   "source": [
    "asp_program += \"\"\"\n",
    "    select(pos(V)) ; select(neg(V)) :- var(V).\n",
    "\"\"\""
   ]
  },
  {
   "cell_type": "markdown",
   "metadata": {},
   "source": [
    "Now let's deduce what options in this search space are incorrect. In our case that includes sets that assign some variable both to true and to false."
   ]
  },
  {
   "cell_type": "code",
   "execution_count": 4,
   "metadata": {},
   "outputs": [],
   "source": [
    "asp_program += \"\"\"\n",
    "    incorrect :- select(pos(V)), select(neg(V)), var(V).\n",
    "\"\"\""
   ]
  },
  {
   "cell_type": "markdown",
   "metadata": {},
   "source": [
    "Moreover, the options that do not satisfy some clause are also incorrect. In other words, options that for some clause $c$ set the negation $\\neg l$ of each literal $l$ in this clause to true. Let's add a rule for this."
   ]
  },
  {
   "cell_type": "code",
   "execution_count": 5,
   "metadata": {},
   "outputs": [],
   "source": [
    "asp_program += \"\"\"\n",
    "    incorrect :- clause(I), select(NotL) : clause(I,L), negate(L,NotL).\n",
    "\"\"\""
   ]
  },
  {
   "cell_type": "markdown",
   "metadata": {},
   "source": [
    "Now it's time to start the actual saturation. For each incorrect option, we saturate the whole set."
   ]
  },
  {
   "cell_type": "code",
   "execution_count": 6,
   "metadata": {},
   "outputs": [],
   "source": [
    "asp_program += \"\"\"\n",
    "    saturate :- incorrect.\n",
    "    select(neg(V)) :- var(V), saturate.\n",
    "    select(pos(V)) :- var(V), saturate.\n",
    "    incorrect :- saturate.\n",
    "\"\"\""
   ]
  },
  {
   "cell_type": "markdown",
   "metadata": {},
   "source": [
    "And to make sure that only saturated sets remain as answer sets, we add a constraint that enforces this."
   ]
  },
  {
   "cell_type": "code",
   "execution_count": 7,
   "metadata": {},
   "outputs": [],
   "source": [
    "asp_program += \"\"\"\n",
    "    :- not saturate.\n",
    "\"\"\""
   ]
  },
  {
   "cell_type": "markdown",
   "metadata": {},
   "source": [
    "Finally, let's add some `#show` statements to hide the entire saturated set from answer sets."
   ]
  },
  {
   "cell_type": "code",
   "execution_count": 8,
   "metadata": {},
   "outputs": [],
   "source": [
    "asp_program += \"\"\"\n",
    "    unsat :- saturate.\n",
    "    #show unsat/0.\n",
    "\"\"\""
   ]
  },
  {
   "cell_type": "code",
   "execution_count": 9,
   "metadata": {},
   "outputs": [
    {
     "name": "stdout",
     "output_type": "stream",
     "text": [
      "Answer set: {unsat}\n"
     ]
    }
   ],
   "source": [
    "print_answer_sets(asp_program)"
   ]
  },
  {
   "cell_type": "markdown",
   "metadata": {},
   "source": [
    "## A satisfiable input\n",
    "\n",
    "And just to show that this indeed gives answer sets only for unsatisfiable formulas, let's try the whole thing again with a satisfiable formula."
   ]
  },
  {
   "cell_type": "code",
   "execution_count": 10,
   "metadata": {},
   "outputs": [
    {
     "name": "stdout",
     "output_type": "stream",
     "text": [
      "No answer sets\n"
     ]
    }
   ],
   "source": [
    "asp_program2 = \"\"\"\n",
    "    % Declare variables\n",
    "    var(p(1..2)).\n",
    "\n",
    "    % Declare formula\n",
    "    % Clause 1: p(1) OR p(2)\n",
    "    clause(1,pos(p(1))).\n",
    "    clause(1,pos(p(2))).\n",
    "\n",
    "    % Clause 2: ~p(1) OR p(2)\n",
    "    clause(2,neg(p(1))).\n",
    "    clause(2,pos(p(2))).\n",
    "\n",
    "    % Clause 3: p(1) OR ~p(2)\n",
    "    clause(3,pos(p(1))).\n",
    "    clause(3,neg(p(2))).\n",
    "\n",
    "    % Auxiliary predicate with just clause numbers\n",
    "    clause(C) :- clause(C,_).\n",
    "    \n",
    "    % Auxiliary predicate to negate literals\n",
    "    negate(pos(V),neg(V)) :- var(V).\n",
    "    negate(neg(V),pos(V)) :- var(V).\n",
    "    \n",
    "    select(pos(V)) ; select(neg(V)) :- var(V).\n",
    "    \n",
    "    incorrect :- select(pos(V)), select(neg(V)), var(V).\n",
    "    incorrect :- clause(I), select(NotL) : clause(I,L), negate(L,NotL).\n",
    "    \n",
    "    saturate :- incorrect.\n",
    "    select(neg(V)) :- var(V), saturate.\n",
    "    select(pos(V)) :- var(V), saturate.\n",
    "    incorrect :- saturate.\n",
    "    \n",
    "    :- not saturate.\n",
    "    \n",
    "    unsat :- saturate.\n",
    "    #show unsat/0.\n",
    "\"\"\"\n",
    "\n",
    "print_answer_sets(asp_program2)"
   ]
  },
  {
   "cell_type": "markdown",
   "metadata": {},
   "source": [
    "Let's consider why there is no answer set for this last program ($P = $ `asp_program2`).\n",
    "- The only candidate answer set, due to the line `:- not saturate.` is the set that contains `saturate` and therefore (by lines 30–33) all other atoms involved. Let's call this set $A$.\n",
    "- This set $A$ can only be an answer set (by definition) if it is a (subset-)minimal model of the reduct $P^A$.\n",
    "- The reduct $P^A$ is almost exactly the same as the program $P$—only line 35 is removed.\n",
    "- To see why $A$ is not a subset-minimal model of $P^A$, consider the following set $A'$:\n",
    "  * $A' = \\{$ `select(pos(1))`, `select(pos(2))` $\\} \\cup B'$, where $B'$ contains all statement using `var/1`, `clause/1`, `clause/2`, and `negate/2` needed to satisfy lines 2–23.\n",
    "- In other words, $A'$ corresponds to the counterexample $\\{ x_1 \\mapsto 1, x_2 \\mapsto 1 \\}$.\n",
    "- Since $A' \\subsetneq A$, the only thing remaining to show is that $A'$ satisfies all rules of $P^A$. And this one can do straightforwardly by going over all rules one-by-one. (Try this yourself!)\n",
    "\n",
    "This also helps to clarify why the set $A$ is an answer set if and only if the formula $\\varphi$ were unsatisfiable. If the formula is satisfiable, we can always find such an $A' \\subsetneq A$ that witnesses that $A$ is not a subset-minimal model of $P^A$. And if the formula is unsatisfiable, then this is not possible."
   ]
  },
  {
   "cell_type": "markdown",
   "metadata": {},
   "source": [
    "## Final notes\n",
    "Saturation is a tricky and often counterintuitive method, so play around with this and practice with using saturation to get a good feel for it.\n",
    "\n",
    "This method traces back to a theoretical paper from 1995 ([\"On the computational cost of disjunctive logic programming: Propositional case\"](https://link.springer.com/article/10.1007/BF01536399) by Thomas Eiter and Georg Gottlob). If you find such theoretical work insightful, have a look at (the proof of) Theorem 3.1, where they use the method of saturation."
   ]
  }
 ],
 "metadata": {
  "kernelspec": {
   "display_name": "Python 3 (ipykernel)",
   "language": "python",
   "name": "python3"
  },
  "language_info": {
   "codemirror_mode": {
    "name": "ipython",
    "version": 3
   },
   "file_extension": ".py",
   "mimetype": "text/x-python",
   "name": "python",
   "nbconvert_exporter": "python",
   "pygments_lexer": "ipython3",
   "version": "3.9.12"
  }
 },
 "nbformat": 4,
 "nbformat_minor": 4
}
