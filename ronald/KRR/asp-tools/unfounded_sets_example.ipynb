{
 "cells": [
  {
   "cell_type": "markdown",
   "metadata": {},
   "source": [
    "# Inspecting supported models and unfounded sets\n",
    "\n",
    "Every answer set of a program is also a supported model (but not vice versa, in general). Moreover, the answer sets are exactly those supported models that do not include an unfounded set.\n",
    "\n",
    "With the following tools, we can take any logic program, and print its supported models, and any unfounded sets that they might include."
   ]
  },
  {
   "cell_type": "code",
   "execution_count": 1,
   "metadata": {},
   "outputs": [],
   "source": [
    "import clingo\n",
    "import clingox\n",
    "\n",
    "from asp_tools import print_supported_models, print_unfounded_sets, print_answer_sets"
   ]
  },
  {
   "cell_type": "markdown",
   "metadata": {},
   "source": [
    "Let's illustrate this with an example program.\n",
    "\n",
    "When writing down your logic program, the following two things are good to take into account:\n",
    "- Declare all the atoms in your program as `#external`.\n",
    "  This is to avoid excessive preprocessing. Logic programs are simplified whenever possible to make the process of finding answer sets more efficient, and this preprocessing can eliminate some supported models (that are not answer sets) and/or unfounded sets.\n",
    "- Do not use `#show` statements, because this might also inadvertently interfere with the tools for finding supported models and unfounded sets."
   ]
  },
  {
   "cell_type": "code",
   "execution_count": 2,
   "metadata": {},
   "outputs": [],
   "source": [
    "program = \"\"\"\n",
    "    a :- b.\n",
    "    b :- a.\n",
    "    c :- d.\n",
    "    \n",
    "    { f }.\n",
    "    \n",
    "    g ; h :- f.\n",
    "    \n",
    "    e :- 2 { a; b; c; d } 2.\n",
    "    \n",
    "    #external a.\n",
    "    #external b.\n",
    "    #external c.\n",
    "    #external d.\n",
    "    #external e.\n",
    "    #external f.\n",
    "    #external g.\n",
    "    #external h.\n",
    "\"\"\""
   ]
  },
  {
   "cell_type": "markdown",
   "metadata": {},
   "source": [
    "Let's first print the supported models of this program."
   ]
  },
  {
   "cell_type": "code",
   "execution_count": 3,
   "metadata": {
    "scrolled": true
   },
   "outputs": [
    {
     "name": "stdout",
     "output_type": "stream",
     "text": [
      "#1:\n",
      "- Supported model: { f, g }\n",
      "\n",
      "#2:\n",
      "- Supported model: { a, b, e, f, g }\n",
      "\n",
      "#3:\n",
      "- Supported model: {  }\n",
      "\n",
      "#4:\n",
      "- Supported model: { a, b, e }\n",
      "\n",
      "#5:\n",
      "- Supported model: { f, h }\n",
      "\n",
      "#6:\n",
      "- Supported model: { a, b, e, f, h }\n",
      "\n"
     ]
    }
   ],
   "source": [
    "print_supported_models(program)"
   ]
  },
  {
   "cell_type": "markdown",
   "metadata": {},
   "source": [
    "Let's now print the unfounded sets that are included in these."
   ]
  },
  {
   "cell_type": "code",
   "execution_count": 4,
   "metadata": {
    "scrolled": false
   },
   "outputs": [
    {
     "name": "stdout",
     "output_type": "stream",
     "text": [
      "#1:\n",
      "- Supported model: { a, b, e }\n",
      "- Unfounded set: { a, b }\n",
      "\n",
      "#2:\n",
      "- Supported model: { a, b, e }\n",
      "- Unfounded set: { a, b, e }\n",
      "\n",
      "#3:\n",
      "- Supported model: { a, b, e, f, h }\n",
      "- Unfounded set: { a, b }\n",
      "\n",
      "#4:\n",
      "- Supported model: { a, b, e, f, h }\n",
      "- Unfounded set: { a, b, e }\n",
      "\n",
      "#5:\n",
      "- Supported model: { a, b, e, f, g }\n",
      "- Unfounded set: { a, b }\n",
      "\n",
      "#6:\n",
      "- Supported model: { a, b, e, f, g }\n",
      "- Unfounded set: { a, b, e }\n",
      "\n"
     ]
    }
   ],
   "source": [
    "print_unfounded_sets(program)"
   ]
  },
  {
   "cell_type": "markdown",
   "metadata": {},
   "source": [
    "This leaves the following supported models that do not include an unfounded set, and thus are the answer sets of the program."
   ]
  },
  {
   "cell_type": "code",
   "execution_count": 5,
   "metadata": {},
   "outputs": [
    {
     "name": "stdout",
     "output_type": "stream",
     "text": [
      "#1:\n",
      "- Answer set: { f, h }\n",
      "\n",
      "#2:\n",
      "- Answer set: {  }\n",
      "\n",
      "#3:\n",
      "- Answer set: { f, g }\n",
      "\n"
     ]
    }
   ],
   "source": [
    "print_answer_sets(program)"
   ]
  }
 ],
 "metadata": {
  "kernelspec": {
   "display_name": "Python 3 (ipykernel)",
   "language": "python",
   "name": "python3"
  },
  "language_info": {
   "codemirror_mode": {
    "name": "ipython",
    "version": 3
   },
   "file_extension": ".py",
   "mimetype": "text/x-python",
   "name": "python",
   "nbconvert_exporter": "python",
   "pygments_lexer": "ipython3",
   "version": "3.9.12"
  }
 },
 "nbformat": 4,
 "nbformat_minor": 4
}
