{
 "cells": [
  {
   "cell_type": "markdown",
   "id": "37e84806",
   "metadata": {},
   "source": [
    "# Towards SAT Solving for Graph Aggregation\n",
    "This notebook is based on the notebook for the course on *Computational Social Choice*, demonstrating how to use SAT-solving technology to reason about voting rules, prepared by [Ulle Endriss](https://staff.science.uva.nl/u.endriss/), ILLC, University of Amsterdam (November 2023).\n",
    "\n",
    "This notebook is part of the implementation of a project extending SAT solving to the graph aggregation domain, as set up by [Endriss & Grandi, 2018](https://dl.acm.org/doi/abs/10.1145/3184558.3186231)."
   ]
  },
  {
   "cell_type": "markdown",
   "id": "a8e1801d",
   "metadata": {},
   "source": [
    "## System Requirements\n",
    "You need to be able to run [Jupyter Notebooks](https://realpython.com/jupyter-notebook-introduction/) for Python 3 and you need to have the [PySAT](https://pysathq.github.io/) toolkit [installed](https://pysathq.github.io/installation/) on your machine. "
   ]
  },
  {
   "cell_type": "markdown",
   "id": "0cf17a6e",
   "metadata": {},
   "source": [
    "## Using this Notebook\n",
    "The recommended way of using this notebook is to first restart the kernel and then run the entire notebook cell by cell. With the exception of two cells near the end of the notebook, this should not generate any error messages. Then go to any of the cells labelled **\"Try it!\"** and see what happens when you make changes to those cells and run them again.\n",
    "\n",
    "Beware that some of the code is only explained on the slides and not here. Note that I followed to a 'minimalist' coding philosophy: trying to write as little code as possible and trying to make that code as easy to understand as possible. So this is neither maximally efficient (but easily fast enough for our present needs) nor maximally robust (but it works fine when used as intended)."
   ]
  },
  {
   "cell_type": "markdown",
   "id": "68d6e5c2",
   "metadata": {},
   "source": [
    "## Imports\n",
    "We first import some extra functionality from standard Python modules, so we can easily (a) compute the factorial of a given number, (b) work with the list of all permutations of a given list, and (c) randomly shuffle a given list."
   ]
  },
  {
   "cell_type": "code",
   "execution_count": 1,
   "id": "21708e31",
   "metadata": {},
   "outputs": [],
   "source": [
    "from math import factorial\n",
    "from itertools import permutations\n",
    "from random import shuffle"
   ]
  },
  {
   "cell_type": "markdown",
   "id": "1358af1c",
   "metadata": {},
   "source": [
    "## SAT Solving\n",
    "We want to use SAT-solving technology to reason about voting rules. In this section, we provide the methods required to make this technology available to us. Specifically, we define methods to check whether a given formula is satisfiable, to enumerate all models of a satisfiable formula, and to compute a minimally unsatisfiable subset (MUS) of an unsatisfiable set of clauses. Our methods are simple wrappers around more sophisticated versions of the same methods provided by PySAT. Note that none of this is specific to our intended application to social choice theory. \n",
    "\n",
    "A *SAT solver* is a program that can determine whether a given formula of propositional logic is *satisfiable*. Recall that a formula $\\varphi$ is satisfiable if there exists an assignment of truth values to the propositional variables occurring in $\\varphi$ for which $\\varphi$ evaluates to *true*. Formulas must be provided in *conjunctive normal form* (CNF). Recall that a formula in CNF is a conjunction ('and') of *clauses*, with a clause being a disjunction ('or') of *literals*. A literal, in turn, is either a propositional variable or the negation of a propositional variable. \n",
    "\n",
    "In our code, we use positive integers to represent positive literals (i.e., propositional variables), negative integers to represent negative literals (i.e., negations of propositional variables), lists of integers to represent clauses, and lists of such lists to represent formulas in CNF. Thus, for example, the list `[[1,-3,2],[-2]]` represents the formula $(p_1 \\lor \\neg p_3 \\lor p_2) \\land (\\neg p_2)$. This is known as the DIMACS format.\n",
    "\n",
    "We first import the required functionality from PySAT. The first import makes available the solver Glucose 3.0 (any of the other solvers should work just as well). The second makes available a module for working with weighted formulas in CNF, which is required for the implementation of the MUS extractor provided by means of the third import."
   ]
  },
  {
   "cell_type": "code",
   "execution_count": 2,
   "id": "71bff848",
   "metadata": {},
   "outputs": [],
   "source": [
    "from pysat.solvers import Glucose3\n",
    "from pysat.formula import WCNF\n",
    "from pysat.examples.musx import MUSX"
   ]
  },
  {
   "cell_type": "markdown",
   "id": "52aeae7e",
   "metadata": {},
   "source": [
    "The method `solve()` implemented below offers easy access to the corresponding method of our chosen SAT solver. If you apply this method to a formula $\\varphi$ in CNF, it will return the string `UNSATISFIABLE` in case $\\varphi$ is unsatisfiable, and otherwise a *model* that satisfies $\\varphi$. Any such a model is presented in the form of a list of positive and negative integers, indicating which propositional variables must be set to *true* and which must be set to *false*."
   ]
  },
  {
   "cell_type": "code",
   "execution_count": 3,
   "id": "c68a2e20",
   "metadata": {},
   "outputs": [],
   "source": [
    "def solve(cnf):\n",
    "    solver = Glucose3()\n",
    "    for clause in cnf: solver.add_clause(clause)\n",
    "    if solver.solve():\n",
    "        return solver.get_model()\n",
    "    else:\n",
    "        return('UNSATISFIABLE')"
   ]
  },
  {
   "cell_type": "markdown",
   "id": "09f28f86",
   "metadata": {},
   "source": [
    "**Try it!** You can change the CNF formula (i.e., the list of lists of integers) in the example below to test different formulas for their satisfiability."
   ]
  },
  {
   "cell_type": "code",
   "execution_count": 4,
   "id": "06a17d65",
   "metadata": {},
   "outputs": [
    {
     "data": {
      "text/plain": [
       "'UNSATISFIABLE'"
      ]
     },
     "execution_count": 4,
     "metadata": {},
     "output_type": "execute_result"
    }
   ],
   "source": [
    "solve([[1,2], [1,-2], [-1,2], [-1,-2]])"
   ]
  },
  {
   "cell_type": "markdown",
   "id": "72af0d0e",
   "metadata": {},
   "source": [
    "The method `enumModels()` can be used to enumerate all satisfying models of a given formula in CNF. Keep in mind that this is a demanding operation and that the number of models can be huge. Note that the object returned by `enumModels()` is an iterator (not a list). A simple way of inspecting it is to use the `list()` method on the object returned by `enumModels()`."
   ]
  },
  {
   "cell_type": "code",
   "execution_count": 5,
   "id": "e6b8f1f8",
   "metadata": {},
   "outputs": [],
   "source": [
    "def enumModels(cnf):\n",
    "    solver = Glucose3()\n",
    "    for clause in cnf: solver.add_clause(clause)\n",
    "    return solver.enum_models()"
   ]
  },
  {
   "cell_type": "markdown",
   "id": "c049d2f0",
   "metadata": {},
   "source": [
    "**Try it!**"
   ]
  },
  {
   "cell_type": "code",
   "execution_count": 6,
   "id": "cd85d25d",
   "metadata": {},
   "outputs": [
    {
     "name": "stdout",
     "output_type": "stream",
     "text": [
      "[[-1, 2, -3], [1, 2, 3]]\n"
     ]
    }
   ],
   "source": [
    "models = enumModels([[-1,-2,3], [2], [-3,1]])\n",
    "print(list(models))"
   ]
  },
  {
   "cell_type": "markdown",
   "id": "635af52d",
   "metadata": {},
   "source": [
    "The method `getMUS()` can be used to compute an MUS for a given formula in CNF (which should be unsatisfiable). Note that a given formula might have more than one MUS, and `getMUS()` does not necessarily return the smallest MUS (because computing a cardinality-minimal MUS is a much more demanding operation)."
   ]
  },
  {
   "cell_type": "code",
   "execution_count": 7,
   "id": "46178661",
   "metadata": {},
   "outputs": [],
   "source": [
    "def getMUS(cnf):\n",
    "    wcnf = WCNF()\n",
    "    for clause in cnf: wcnf.append(clause, 1)\n",
    "    mus = MUSX(wcnf,verbosity=0).compute()\n",
    "    return list(cnf[i-1] for i in mus)"
   ]
  },
  {
   "cell_type": "markdown",
   "id": "94230547",
   "metadata": {},
   "source": [
    "**Try it!** The list we obtain represents an unsatisfiable set of clauses that becomes satisfiable as soon as we remove even a single clause from it."
   ]
  },
  {
   "cell_type": "code",
   "execution_count": 8,
   "id": "4ea37520",
   "metadata": {},
   "outputs": [
    {
     "data": {
      "text/plain": [
       "[[-1, 2], [1], [-2]]"
      ]
     },
     "execution_count": 8,
     "metadata": {},
     "output_type": "execute_result"
    }
   ],
   "source": [
    "getMUS([[-1,2], [1], [-3,4], [-2], [3,-4]])"
   ]
  },
  {
   "cell_type": "code",
   "execution_count": null,
   "id": "2572ad5b-9e2c-4a9f-b130-1001a83c9ff8",
   "metadata": {},
   "outputs": [],
   "source": []
  },
  {
   "cell_type": "markdown",
   "id": "5dbdeba9",
   "metadata": {},
   "source": [
    "## Preferences and Profiles\n",
    "In this section, we set up everything we need to represent (a) voters, (b) alternatives, (c) preferences of a single voter over the alternatives, and (d) profiles bundling the preferences of all voters. Observe that $n$ voters and $m$ alternatives, there are $m!$ possible preferences and $m!^n$ possible profiles.\n",
    "\n",
    "We first fix `n`, the number of voters, and `m`, the number of alternatives. For much of what we are going to do, we shall assume `n = 2` and `m = 3`. Keep in mind that the number of objects we are dealing with grows exponentially in `n` and superexponentially in `m`, so things are unlikely to work well (or at all) for even moderately larger numbers."
   ]
  },
  {
   "cell_type": "code",
   "execution_count": 9,
   "id": "323add38",
   "metadata": {},
   "outputs": [],
   "source": [
    "from config import config"
   ]
  },
  {
   "cell_type": "code",
   "execution_count": 10,
   "id": "85ffba5c",
   "metadata": {},
   "outputs": [],
   "source": [
    "# config, utils, axioms, properties, literals\n",
    "from config import config\n",
    "from utils import *\n",
    "from axioms import *\n",
    "from properties import *"
   ]
  },
  {
   "cell_type": "code",
   "execution_count": 11,
   "id": "168aa692",
   "metadata": {},
   "outputs": [
    {
     "data": {
      "text/plain": [
       "[(1,), (-2,), (-3,), (-4,), (-5,), (-6,), (-7,), (-8,), (-9,)]"
      ]
     },
     "execution_count": 11,
     "metadata": {},
     "output_type": "execute_result"
    }
   ],
   "source": [
    "graphCNF(get_graph(1, config.v))"
   ]
  },
  {
   "cell_type": "code",
   "execution_count": 12,
   "id": "c863bf03",
   "metadata": {},
   "outputs": [
    {
     "data": {
      "text/plain": [
       "[(2, 4), (3, 7), (4, 2), (6, 8), (7, 3), (8, 6)]"
      ]
     },
     "execution_count": 12,
     "metadata": {},
     "output_type": "execute_result"
    }
   ],
   "source": [
    "cnfCompleteness()"
   ]
  },
  {
   "cell_type": "code",
   "execution_count": 13,
   "id": "22fee494",
   "metadata": {},
   "outputs": [
    {
     "data": {
      "text/plain": [
       "\"def generate_graph_subsets(cnf_properties):\\n    acceptable_graphs = []\\n    for graph_int in allGraphs():\\n        edges = get_graph(graph_int, config.v)\\n        cnf = graphCNF(edges)\\n        for cnf_property in cnf_properties:\\n            cnf += cnf_property()\\n#         print(cnf)\\n        if solve(cnf) != 'UNSATISFIABLE':\\n            acceptable_graphs.append(graph_int)\\n            \\n    return acceptable_graphs\""
      ]
     },
     "execution_count": 13,
     "metadata": {},
     "output_type": "execute_result"
    }
   ],
   "source": [
    "\"\"\"def generate_graph_subsets(cnf_properties):\n",
    "    acceptable_graphs = []\n",
    "    for graph_int in allGraphs():\n",
    "        edges = get_graph(graph_int, config.v)\n",
    "        cnf = graphCNF(edges)\n",
    "        for cnf_property in cnf_properties:\n",
    "            cnf += cnf_property()\n",
    "#         print(cnf)\n",
    "        if solve(cnf) != 'UNSATISFIABLE':\n",
    "            acceptable_graphs.append(graph_int)\n",
    "            \n",
    "    return acceptable_graphs\"\"\""
   ]
  },
  {
   "cell_type": "code",
   "execution_count": 14,
   "id": "4ca9499a",
   "metadata": {},
   "outputs": [
    {
     "name": "stdout",
     "output_type": "stream",
     "text": [
      "Updating config.graphs\n",
      "Updating config.g := 6\n"
     ]
    }
   ],
   "source": [
    "prop_fns = [cnfIrreflexivity, cnfTransitivity, cnfCompleteness]\n",
    "graphs = generate_graph_subsets(prop_fns)\n",
    "\n",
    "# graphs = generate_graph_subsets([cnfIrreflexivity, cnfConnectedness, cnfTransitivity, cnfCompleteness])\n",
    "config.update_graphs(graphs)"
   ]
  },
  {
   "cell_type": "code",
   "execution_count": 15,
   "id": "5f29f152",
   "metadata": {
    "scrolled": true
   },
   "outputs": [
    {
     "name": "stdout",
     "output_type": "stream",
     "text": [
      "[(0, 1), (0, 2), (1, 2)]\n"
     ]
    },
    {
     "data": {
      "image/png": "[encoded data removed]",
      "text/plain": [
       "<Figure size 640x480 with 1 Axes>"
      ]
     },
     "metadata": {},
     "output_type": "display_data"
    },
    {
     "name": "stdout",
     "output_type": "stream",
     "text": [
      "[(0, 2), (1, 0), (1, 2)]\n"
     ]
    },
    {
     "data": {
      "image/png": "[encoded data removed]",
      "text/plain": [
       "<Figure size 640x480 with 1 Axes>"
      ]
     },
     "metadata": {},
     "output_type": "display_data"
    },
    {
     "name": "stdout",
     "output_type": "stream",
     "text": [
      "[(1, 0), (1, 2), (2, 0)]\n"
     ]
    },
    {
     "data": {
      "image/png": "[encoded data removed]",
      "text/plain": [
       "<Figure size 640x480 with 1 Axes>"
      ]
     },
     "metadata": {},
     "output_type": "display_data"
    },
    {
     "name": "stdout",
     "output_type": "stream",
     "text": [
      "[(0, 1), (0, 2), (2, 1)]\n"
     ]
    },
    {
     "data": {
      "image/png": "[encoded data removed]",
      "text/plain": [
       "<Figure size 640x480 with 1 Axes>"
      ]
     },
     "metadata": {},
     "output_type": "display_data"
    },
    {
     "name": "stdout",
     "output_type": "stream",
     "text": [
      "[(0, 1), (2, 0), (2, 1)]\n"
     ]
    },
    {
     "data": {
      "image/png": "[encoded data removed]",
      "text/plain": [
       "<Figure size 640x480 with 1 Axes>"
      ]
     },
     "metadata": {},
     "output_type": "display_data"
    },
    {
     "name": "stdout",
     "output_type": "stream",
     "text": [
      "[(1, 0), (2, 0), (2, 1)]\n"
     ]
    },
    {
     "data": {
      "image/png": "[encoded data removed]",
      "text/plain": [
       "<Figure size 640x480 with 1 Axes>"
      ]
     },
     "metadata": {},
     "output_type": "display_data"
    }
   ],
   "source": [
    "from plot import draw_labeled_graph\n",
    "for graph in config.graphs:\n",
    "    edges = get_graph(graph, config.v)\n",
    "    print(edges)\n",
    "    draw_labeled_graph(edges, config.v)\n"
   ]
  },
  {
   "cell_type": "code",
   "execution_count": 30,
   "id": "8c9b146f",
   "metadata": {},
   "outputs": [
    {
     "name": "stdout",
     "output_type": "stream",
     "text": [
      "generating CNF for axiom <function iie at 0x000001BC152D4550>\n",
      "Expected clauses:  839808\n",
      "generating CNF for axiom <function nondictatorship at 0x000001BC152D44C0>\n",
      "generating CNF for axiom <function unanimity at 0x000001BC152D43A0>\n",
      "generating CNF for axiom <function grounded at 0x000001BC152D4430>\n",
      "generating CNF for axiom <function cr at 0x000001BCAA4ACEE0>\n",
      "Total clauses: 850730\n"
     ]
    },
    {
     "data": {
      "text/plain": [
       "'UNSATISFIABLE'"
      ]
     },
     "execution_count": 30,
     "metadata": {},
     "output_type": "execute_result"
    }
   ],
   "source": [
    "# arrow_axioms = [iie, nondictatorship, unanimity, grounded]\n",
    "cr = cr_fn(prop_fns)\n",
    "arrow_axioms = [iie, nondictatorship, unanimity, grounded, cr]\n",
    "\n",
    "cnf = []\n",
    "for axiom in arrow_axioms:\n",
    "    print(f\"generating CNF for axiom {axiom}\")\n",
    "    new_cnfs = axiom()\n",
    "    cnf += new_cnfs\n",
    "\n",
    "print(\"Total clauses:\", len(cnf))\n",
    "\n",
    "solve(cnf)"
   ]
  },
  {
   "cell_type": "code",
   "execution_count": 31,
   "metadata": {},
   "outputs": [
    {
     "name": "stdout",
     "output_type": "stream",
     "text": [
      "generating CNF for axiom <function nondictatorship at 0x000001BC152D44C0>\n",
      "generating CNF for axiom <function unanimity at 0x000001BC152D43A0>\n",
      "generating CNF for axiom <function grounded at 0x000001BC152D4430>\n",
      "generating CNF for axiom <function cr at 0x000001BCAA4ACEE0>\n",
      "Total clauses: 10922\n"
     ]
    },
    {
     "data": {
      "text/plain": [
       "'UNSATISFIABLE'"
      ]
     },
     "execution_count": 31,
     "metadata": {},
     "output_type": "execute_result"
    }
   ],
   "source": [
    "arrow_axioms = [nondictatorship, unanimity, grounded, cr]\n",
    "\n",
    "cnf = []\n",
    "for axiom in arrow_axioms:\n",
    "    print(f\"generating CNF for axiom {axiom}\")\n",
    "    new_cnfs = axiom()\n",
    "    cnf += new_cnfs\n",
    "\n",
    "print(\"Total clauses:\", len(cnf))\n",
    "\n",
    "solve(cnf)"
   ]
  },
  {
   "cell_type": "code",
   "execution_count": 32,
   "metadata": {},
   "outputs": [
    {
     "name": "stdout",
     "output_type": "stream",
     "text": [
      "generating CNF for axiom <function iie at 0x000001BC152D4550>\n",
      "Expected clauses:  839808\n",
      "generating CNF for axiom <function unanimity at 0x000001BC152D43A0>\n",
      "generating CNF for axiom <function grounded at 0x000001BC152D4430>\n",
      "generating CNF for axiom <function cr at 0x000001BCAA4ACEE0>\n",
      "Total clauses: 850727\n"
     ]
    },
    {
     "data": {
      "text/plain": [
       "'UNSATISFIABLE'"
      ]
     },
     "execution_count": 32,
     "metadata": {},
     "output_type": "execute_result"
    }
   ],
   "source": [
    "arrow_axioms = [iie, unanimity, grounded, cr]\n",
    "\n",
    "cnf = []\n",
    "for axiom in arrow_axioms:\n",
    "    print(f\"generating CNF for axiom {axiom}\")\n",
    "    new_cnfs = axiom()\n",
    "    cnf += new_cnfs\n",
    "\n",
    "print(\"Total clauses:\", len(cnf))\n",
    "\n",
    "solve(cnf)"
   ]
  },
  {
   "cell_type": "code",
   "execution_count": 33,
   "metadata": {},
   "outputs": [
    {
     "name": "stdout",
     "output_type": "stream",
     "text": [
      "generating CNF for axiom <function iie at 0x000001BC152D4550>\n",
      "Expected clauses:  839808\n",
      "generating CNF for axiom <function nondictatorship at 0x000001BC152D44C0>\n",
      "generating CNF for axiom <function grounded at 0x000001BC152D4430>\n",
      "generating CNF for axiom <function cr at 0x000001BCAA4ACEE0>\n",
      "Total clauses: 849038\n"
     ]
    },
    {
     "data": {
      "text/plain": [
       "'UNSATISFIABLE'"
      ]
     },
     "execution_count": 33,
     "metadata": {},
     "output_type": "execute_result"
    }
   ],
   "source": [
    "arrow_axioms = [iie, nondictatorship, grounded, cr]\n",
    "\n",
    "cnf = []\n",
    "for axiom in arrow_axioms:\n",
    "    print(f\"generating CNF for axiom {axiom}\")\n",
    "    new_cnfs = axiom()\n",
    "    cnf += new_cnfs\n",
    "\n",
    "print(\"Total clauses:\", len(cnf))\n",
    "\n",
    "solve(cnf)"
   ]
  },
  {
   "cell_type": "code",
   "execution_count": 35,
   "metadata": {},
   "outputs": [
    {
     "name": "stdout",
     "output_type": "stream",
     "text": [
      "generating CNF for axiom <function iie at 0x000001BC152D4550>\n",
      "Expected clauses:  839808\n",
      "generating CNF for axiom <function nondictatorship at 0x000001BC152D44C0>\n",
      "generating CNF for axiom <function unanimity at 0x000001BC152D43A0>\n",
      "generating CNF for axiom <function cr at 0x000001BCAA4ACEE0>\n",
      "Total clauses: 849279\n"
     ]
    },
    {
     "data": {
      "text/plain": [
       "'UNSATISFIABLE'"
      ]
     },
     "execution_count": 35,
     "metadata": {},
     "output_type": "execute_result"
    }
   ],
   "source": [
    "arrow_axioms = [iie, nondictatorship, unanimity, cr]\n",
    "\n",
    "cnf = []\n",
    "for axiom in arrow_axioms:\n",
    "    print(f\"generating CNF for axiom {axiom}\")\n",
    "    new_cnfs = axiom()\n",
    "    cnf += new_cnfs\n",
    "\n",
    "print(\"Total clauses:\", len(cnf))\n",
    "\n",
    "solve(cnf)"
   ]
  },
  {
   "cell_type": "code",
   "execution_count": 34,
   "metadata": {},
   "outputs": [
    {
     "name": "stdout",
     "output_type": "stream",
     "text": [
      "generating CNF for axiom <function iie at 0x000001BC152D4550>\n",
      "Expected clauses:  839808\n",
      "generating CNF for axiom <function nondictatorship at 0x000001BC152D44C0>\n",
      "generating CNF for axiom <function unanimity at 0x000001BC152D43A0>\n",
      "generating CNF for axiom <function grounded at 0x000001BC152D4430>\n",
      "Total clauses: 842954\n"
     ]
    },
    {
     "data": {
      "text/plain": [
       "[-1,\n",
       " -2,\n",
       " -3,\n",
       " -4,\n",
       " -5,\n",
       " -6,\n",
       " -7,\n",
       " -8,\n",
       " -9,\n",
       " -10,\n",
       " -11,\n",
       " -12,\n",
       " -13,\n",
       " -14,\n",
       " -15,\n",
       " -16,\n",
       " -17,\n",
       " -18,\n",
       " -19,\n",
       " -20,\n",
       " -21,\n",
       " -22,\n",
       " -23,\n",
       " -24,\n",
       " -25,\n",
       " -26,\n",
       " -27,\n",
       " -28,\n",
       " -29,\n",
       " -30,\n",
       " -31,\n",
       " -32,\n",
       " -33,\n",
       " -34,\n",
       " -35,\n",
       " -36,\n",
       " -37,\n",
       " -38,\n",
       " -39,\n",
       " -40,\n",
       " -41,\n",
       " -42,\n",
       " -43,\n",
       " -44,\n",
       " -45,\n",
       " -46,\n",
       " -47,\n",
       " -48,\n",
       " -49,\n",
       " -50,\n",
       " -51,\n",
       " -52,\n",
       " -53,\n",
       " -54,\n",
       " -55,\n",
       " -56,\n",
       " -57,\n",
       " -58,\n",
       " -59,\n",
       " -60,\n",
       " -61,\n",
       " -62,\n",
       " -63,\n",
       " -64,\n",
       " -65,\n",
       " -66,\n",
       " -67,\n",
       " -68,\n",
       " -69,\n",
       " -70,\n",
       " -71,\n",
       " -72,\n",
       " -73,\n",
       " -74,\n",
       " -75,\n",
       " -76,\n",
       " -77,\n",
       " -78,\n",
       " -79,\n",
       " -80,\n",
       " -81,\n",
       " -82,\n",
       " -83,\n",
       " -84,\n",
       " -85,\n",
       " -86,\n",
       " -87,\n",
       " -88,\n",
       " -89,\n",
       " -90,\n",
       " -91,\n",
       " -92,\n",
       " -93,\n",
       " -94,\n",
       " -95,\n",
       " -96,\n",
       " -97,\n",
       " -98,\n",
       " -99,\n",
       " -100,\n",
       " -101,\n",
       " -102,\n",
       " -103,\n",
       " -104,\n",
       " -105,\n",
       " -106,\n",
       " -107,\n",
       " -108,\n",
       " -109,\n",
       " -110,\n",
       " -111,\n",
       " -112,\n",
       " -113,\n",
       " -114,\n",
       " -115,\n",
       " -116,\n",
       " -117,\n",
       " -118,\n",
       " -119,\n",
       " -120,\n",
       " -121,\n",
       " -122,\n",
       " -123,\n",
       " -124,\n",
       " -125,\n",
       " -126,\n",
       " -127,\n",
       " -128,\n",
       " -129,\n",
       " -130,\n",
       " -131,\n",
       " -132,\n",
       " -133,\n",
       " -134,\n",
       " -135,\n",
       " -136,\n",
       " -137,\n",
       " -138,\n",
       " -139,\n",
       " -140,\n",
       " -141,\n",
       " -142,\n",
       " -143,\n",
       " -144,\n",
       " -145,\n",
       " -146,\n",
       " -147,\n",
       " -148,\n",
       " -149,\n",
       " -150,\n",
       " -151,\n",
       " -152,\n",
       " -153,\n",
       " -154,\n",
       " -155,\n",
       " -156,\n",
       " -157,\n",
       " -158,\n",
       " -159,\n",
       " -160,\n",
       " -161,\n",
       " -162,\n",
       " -163,\n",
       " -164,\n",
       " -165,\n",
       " -166,\n",
       " -167,\n",
       " -168,\n",
       " -169,\n",
       " -170,\n",
       " -171,\n",
       " -172,\n",
       " -173,\n",
       " -174,\n",
       " -175,\n",
       " -176,\n",
       " -177,\n",
       " -178,\n",
       " -179,\n",
       " -180,\n",
       " -181,\n",
       " -182,\n",
       " -183,\n",
       " -184,\n",
       " -185,\n",
       " -186,\n",
       " -187,\n",
       " -188,\n",
       " -189,\n",
       " -190,\n",
       " -191,\n",
       " -192,\n",
       " -193,\n",
       " -194,\n",
       " -195,\n",
       " -196,\n",
       " -197,\n",
       " -198,\n",
       " -199,\n",
       " -200,\n",
       " -201,\n",
       " -202,\n",
       " -203,\n",
       " -204,\n",
       " -205,\n",
       " -206,\n",
       " -207,\n",
       " -208,\n",
       " -209,\n",
       " -210,\n",
       " -211,\n",
       " -212,\n",
       " -213,\n",
       " -214,\n",
       " -215,\n",
       " -216,\n",
       " -217,\n",
       " -218,\n",
       " -219,\n",
       " -220,\n",
       " -221,\n",
       " -222,\n",
       " -223,\n",
       " -224,\n",
       " -225,\n",
       " -226,\n",
       " -227,\n",
       " -228,\n",
       " -229,\n",
       " -230,\n",
       " -231,\n",
       " -232,\n",
       " -233,\n",
       " -234,\n",
       " -235,\n",
       " -236,\n",
       " -237,\n",
       " -238,\n",
       " -239,\n",
       " -240,\n",
       " -241,\n",
       " -242,\n",
       " -243,\n",
       " -244,\n",
       " -245,\n",
       " -246,\n",
       " -247,\n",
       " -248,\n",
       " -249,\n",
       " -250,\n",
       " -251,\n",
       " -252,\n",
       " -253,\n",
       " -254,\n",
       " -255,\n",
       " -256,\n",
       " -257,\n",
       " -258,\n",
       " -259,\n",
       " -260,\n",
       " -261,\n",
       " -262,\n",
       " -263,\n",
       " -264,\n",
       " -265,\n",
       " -266,\n",
       " -267,\n",
       " -268,\n",
       " -269,\n",
       " -270,\n",
       " -271,\n",
       " -272,\n",
       " -273,\n",
       " -274,\n",
       " -275,\n",
       " -276,\n",
       " -277,\n",
       " -278,\n",
       " -279,\n",
       " -280,\n",
       " -281,\n",
       " -282,\n",
       " -283,\n",
       " -284,\n",
       " -285,\n",
       " -286,\n",
       " -287,\n",
       " -288,\n",
       " -289,\n",
       " -290,\n",
       " -291,\n",
       " -292,\n",
       " -293,\n",
       " -294,\n",
       " -295,\n",
       " -296,\n",
       " -297,\n",
       " -298,\n",
       " -299,\n",
       " -300,\n",
       " -301,\n",
       " -302,\n",
       " -303,\n",
       " -304,\n",
       " -305,\n",
       " -306,\n",
       " -307,\n",
       " -308,\n",
       " -309,\n",
       " -310,\n",
       " -311,\n",
       " -312,\n",
       " -313,\n",
       " -314,\n",
       " -315,\n",
       " -316,\n",
       " -317,\n",
       " -318,\n",
       " -319,\n",
       " -320,\n",
       " -321,\n",
       " -322,\n",
       " -323,\n",
       " -324,\n",
       " -325,\n",
       " -326,\n",
       " -327,\n",
       " -328,\n",
       " -329,\n",
       " -330,\n",
       " -331,\n",
       " -332,\n",
       " -333,\n",
       " -334,\n",
       " -335,\n",
       " -336,\n",
       " -337,\n",
       " -338,\n",
       " -339,\n",
       " -340,\n",
       " -341,\n",
       " -342,\n",
       " -343,\n",
       " -344,\n",
       " -345,\n",
       " -346,\n",
       " -347,\n",
       " -348,\n",
       " -349,\n",
       " -350,\n",
       " -351,\n",
       " -352,\n",
       " -353,\n",
       " -354,\n",
       " -355,\n",
       " -356,\n",
       " -357,\n",
       " -358,\n",
       " -359,\n",
       " -360,\n",
       " -361,\n",
       " -362,\n",
       " -363,\n",
       " -364,\n",
       " -365,\n",
       " -366,\n",
       " -367,\n",
       " -368,\n",
       " -369,\n",
       " -370,\n",
       " -371,\n",
       " -372,\n",
       " -373,\n",
       " -374,\n",
       " -375,\n",
       " -376,\n",
       " -377,\n",
       " -378,\n",
       " -379,\n",
       " -380,\n",
       " -381,\n",
       " -382,\n",
       " -383,\n",
       " -384,\n",
       " -385,\n",
       " -386,\n",
       " -387,\n",
       " -388,\n",
       " -389,\n",
       " -390,\n",
       " -391,\n",
       " -392,\n",
       " -393,\n",
       " -394,\n",
       " -395,\n",
       " -396,\n",
       " -397,\n",
       " -398,\n",
       " -399,\n",
       " -400,\n",
       " -401,\n",
       " -402,\n",
       " -403,\n",
       " -404,\n",
       " -405,\n",
       " -406,\n",
       " -407,\n",
       " -408,\n",
       " -409,\n",
       " -410,\n",
       " -411,\n",
       " -412,\n",
       " -413,\n",
       " -414,\n",
       " -415,\n",
       " -416,\n",
       " -417,\n",
       " -418,\n",
       " -419,\n",
       " -420,\n",
       " -421,\n",
       " -422,\n",
       " -423,\n",
       " -424,\n",
       " -425,\n",
       " -426,\n",
       " -427,\n",
       " -428,\n",
       " -429,\n",
       " -430,\n",
       " -431,\n",
       " -432,\n",
       " -433,\n",
       " -434,\n",
       " -435,\n",
       " -436,\n",
       " -437,\n",
       " -438,\n",
       " -439,\n",
       " -440,\n",
       " -441,\n",
       " -442,\n",
       " -443,\n",
       " -444,\n",
       " -445,\n",
       " -446,\n",
       " -447,\n",
       " -448,\n",
       " -449,\n",
       " -450,\n",
       " -451,\n",
       " -452,\n",
       " -453,\n",
       " -454,\n",
       " -455,\n",
       " -456,\n",
       " -457,\n",
       " -458,\n",
       " -459,\n",
       " -460,\n",
       " -461,\n",
       " -462,\n",
       " -463,\n",
       " -464,\n",
       " -465,\n",
       " -466,\n",
       " -467,\n",
       " -468,\n",
       " -469,\n",
       " -470,\n",
       " -471,\n",
       " -472,\n",
       " -473,\n",
       " -474,\n",
       " -475,\n",
       " -476,\n",
       " -477,\n",
       " -478,\n",
       " -479,\n",
       " -480,\n",
       " -481,\n",
       " -482,\n",
       " -483,\n",
       " -484,\n",
       " -485,\n",
       " -486,\n",
       " -487,\n",
       " -488,\n",
       " -489,\n",
       " -490,\n",
       " -491,\n",
       " -492,\n",
       " -493,\n",
       " -494,\n",
       " -495,\n",
       " -496,\n",
       " -497,\n",
       " -498,\n",
       " -499,\n",
       " -500,\n",
       " -501,\n",
       " -502,\n",
       " -503,\n",
       " -504,\n",
       " -505,\n",
       " -506,\n",
       " -507,\n",
       " -508,\n",
       " -509,\n",
       " -510,\n",
       " -511,\n",
       " -512,\n",
       " -513,\n",
       " -514,\n",
       " -515,\n",
       " -516,\n",
       " -517,\n",
       " -518,\n",
       " -519,\n",
       " -520,\n",
       " -521,\n",
       " -522,\n",
       " -523,\n",
       " -524,\n",
       " -525,\n",
       " -526,\n",
       " -527,\n",
       " -528,\n",
       " -529,\n",
       " -530,\n",
       " -531,\n",
       " -532,\n",
       " -533,\n",
       " -534,\n",
       " -535,\n",
       " -536,\n",
       " -537,\n",
       " -538,\n",
       " -539,\n",
       " -540,\n",
       " -541,\n",
       " -542,\n",
       " -543,\n",
       " -544,\n",
       " -545,\n",
       " -546,\n",
       " -547,\n",
       " -548,\n",
       " -549,\n",
       " -550,\n",
       " -551,\n",
       " -552,\n",
       " -553,\n",
       " -554,\n",
       " -555,\n",
       " -556,\n",
       " -557,\n",
       " -558,\n",
       " -559,\n",
       " -560,\n",
       " -561,\n",
       " -562,\n",
       " -563,\n",
       " -564,\n",
       " -565,\n",
       " -566,\n",
       " -567,\n",
       " -568,\n",
       " -569,\n",
       " -570,\n",
       " -571,\n",
       " -572,\n",
       " -573,\n",
       " -574,\n",
       " -575,\n",
       " -576,\n",
       " -577,\n",
       " -578,\n",
       " -579,\n",
       " -580,\n",
       " -581,\n",
       " -582,\n",
       " -583,\n",
       " -584,\n",
       " -585,\n",
       " -586,\n",
       " -587,\n",
       " -588,\n",
       " -589,\n",
       " -590,\n",
       " -591,\n",
       " -592,\n",
       " -593,\n",
       " -594,\n",
       " -595,\n",
       " -596,\n",
       " -597,\n",
       " -598,\n",
       " -599,\n",
       " -600,\n",
       " -601,\n",
       " -602,\n",
       " -603,\n",
       " -604,\n",
       " -605,\n",
       " -606,\n",
       " -607,\n",
       " -608,\n",
       " -609,\n",
       " -610,\n",
       " -611,\n",
       " -612,\n",
       " -613,\n",
       " -614,\n",
       " -615,\n",
       " -616,\n",
       " -617,\n",
       " -618,\n",
       " -619,\n",
       " -620,\n",
       " -621,\n",
       " -622,\n",
       " -623,\n",
       " -624,\n",
       " -625,\n",
       " -626,\n",
       " -627,\n",
       " -628,\n",
       " -629,\n",
       " -630,\n",
       " -631,\n",
       " -632,\n",
       " -633,\n",
       " -634,\n",
       " -635,\n",
       " -636,\n",
       " -637,\n",
       " -638,\n",
       " -639,\n",
       " -640,\n",
       " -641,\n",
       " -642,\n",
       " -643,\n",
       " -644,\n",
       " -645,\n",
       " -646,\n",
       " -647,\n",
       " -648,\n",
       " -649,\n",
       " -650,\n",
       " -651,\n",
       " -652,\n",
       " -653,\n",
       " -654,\n",
       " -655,\n",
       " -656,\n",
       " -657,\n",
       " -658,\n",
       " -659,\n",
       " -660,\n",
       " -661,\n",
       " -662,\n",
       " -663,\n",
       " -664,\n",
       " -665,\n",
       " -666,\n",
       " -667,\n",
       " -668,\n",
       " -669,\n",
       " -670,\n",
       " -671,\n",
       " -672,\n",
       " -673,\n",
       " -674,\n",
       " -675,\n",
       " -676,\n",
       " -677,\n",
       " -678,\n",
       " -679,\n",
       " -680,\n",
       " -681,\n",
       " -682,\n",
       " -683,\n",
       " -684,\n",
       " -685,\n",
       " -686,\n",
       " -687,\n",
       " -688,\n",
       " -689,\n",
       " -690,\n",
       " -691,\n",
       " -692,\n",
       " -693,\n",
       " -694,\n",
       " -695,\n",
       " -696,\n",
       " -697,\n",
       " -698,\n",
       " -699,\n",
       " -700,\n",
       " -701,\n",
       " -702,\n",
       " -703,\n",
       " -704,\n",
       " -705,\n",
       " -706,\n",
       " -707,\n",
       " -708,\n",
       " -709,\n",
       " -710,\n",
       " -711,\n",
       " -712,\n",
       " -713,\n",
       " -714,\n",
       " -715,\n",
       " -716,\n",
       " -717,\n",
       " -718,\n",
       " -719,\n",
       " -720,\n",
       " -721,\n",
       " -722,\n",
       " -723,\n",
       " -724,\n",
       " -725,\n",
       " -726,\n",
       " -727,\n",
       " -728,\n",
       " -729,\n",
       " -730,\n",
       " -731,\n",
       " -732,\n",
       " -733,\n",
       " -734,\n",
       " -735,\n",
       " -736,\n",
       " -737,\n",
       " -738,\n",
       " -739,\n",
       " -740,\n",
       " -741,\n",
       " -742,\n",
       " -743,\n",
       " -744,\n",
       " -745,\n",
       " -746,\n",
       " -747,\n",
       " -748,\n",
       " -749,\n",
       " -750,\n",
       " -751,\n",
       " -752,\n",
       " -753,\n",
       " -754,\n",
       " -755,\n",
       " -756,\n",
       " -757,\n",
       " -758,\n",
       " -759,\n",
       " -760,\n",
       " -761,\n",
       " -762,\n",
       " -763,\n",
       " -764,\n",
       " -765,\n",
       " -766,\n",
       " -767,\n",
       " -768,\n",
       " -769,\n",
       " -770,\n",
       " -771,\n",
       " -772,\n",
       " -773,\n",
       " -774,\n",
       " -775,\n",
       " -776,\n",
       " -777,\n",
       " -778,\n",
       " -779,\n",
       " -780,\n",
       " -781,\n",
       " -782,\n",
       " -783,\n",
       " -784,\n",
       " -785,\n",
       " -786,\n",
       " -787,\n",
       " -788,\n",
       " -789,\n",
       " -790,\n",
       " -791,\n",
       " -792,\n",
       " -793,\n",
       " -794,\n",
       " -795,\n",
       " -796,\n",
       " -797,\n",
       " -798,\n",
       " -799,\n",
       " -800,\n",
       " -801,\n",
       " -802,\n",
       " -803,\n",
       " -804,\n",
       " -805,\n",
       " -806,\n",
       " -807,\n",
       " -808,\n",
       " -809,\n",
       " -810,\n",
       " -811,\n",
       " -812,\n",
       " -813,\n",
       " -814,\n",
       " -815,\n",
       " -816,\n",
       " -817,\n",
       " -818,\n",
       " -819,\n",
       " -820,\n",
       " -821,\n",
       " -822,\n",
       " -823,\n",
       " -824,\n",
       " -825,\n",
       " -826,\n",
       " -827,\n",
       " -828,\n",
       " -829,\n",
       " -830,\n",
       " -831,\n",
       " -832,\n",
       " -833,\n",
       " -834,\n",
       " -835,\n",
       " -836,\n",
       " -837,\n",
       " -838,\n",
       " -839,\n",
       " -840,\n",
       " -841,\n",
       " -842,\n",
       " -843,\n",
       " -844,\n",
       " -845,\n",
       " -846,\n",
       " -847,\n",
       " -848,\n",
       " -849,\n",
       " -850,\n",
       " -851,\n",
       " -852,\n",
       " -853,\n",
       " -854,\n",
       " -855,\n",
       " -856,\n",
       " -857,\n",
       " -858,\n",
       " -859,\n",
       " -860,\n",
       " -861,\n",
       " -862,\n",
       " -863,\n",
       " -864,\n",
       " -865,\n",
       " -866,\n",
       " -867,\n",
       " -868,\n",
       " -869,\n",
       " -870,\n",
       " -871,\n",
       " -872,\n",
       " -873,\n",
       " -874,\n",
       " -875,\n",
       " -876,\n",
       " -877,\n",
       " -878,\n",
       " -879,\n",
       " -880,\n",
       " -881,\n",
       " -882,\n",
       " -883,\n",
       " -884,\n",
       " -885,\n",
       " -886,\n",
       " -887,\n",
       " -888,\n",
       " -889,\n",
       " -890,\n",
       " -891,\n",
       " -892,\n",
       " -893,\n",
       " -894,\n",
       " -895,\n",
       " -896,\n",
       " -897,\n",
       " -898,\n",
       " -899,\n",
       " -900,\n",
       " -901,\n",
       " -902,\n",
       " -903,\n",
       " -904,\n",
       " -905,\n",
       " -906,\n",
       " -907,\n",
       " -908,\n",
       " -909,\n",
       " -910,\n",
       " -911,\n",
       " -912,\n",
       " -913,\n",
       " -914,\n",
       " -915,\n",
       " -916,\n",
       " -917,\n",
       " -918,\n",
       " -919,\n",
       " -920,\n",
       " -921,\n",
       " -922,\n",
       " -923,\n",
       " -924,\n",
       " -925,\n",
       " -926,\n",
       " -927,\n",
       " -928,\n",
       " -929,\n",
       " -930,\n",
       " -931,\n",
       " -932,\n",
       " -933,\n",
       " -934,\n",
       " -935,\n",
       " -936,\n",
       " -937,\n",
       " -938,\n",
       " -939,\n",
       " -940,\n",
       " -941,\n",
       " -942,\n",
       " -943,\n",
       " -944,\n",
       " -945,\n",
       " -946,\n",
       " -947,\n",
       " -948,\n",
       " -949,\n",
       " -950,\n",
       " -951,\n",
       " -952,\n",
       " -953,\n",
       " -954,\n",
       " -955,\n",
       " -956,\n",
       " -957,\n",
       " -958,\n",
       " -959,\n",
       " -960,\n",
       " -961,\n",
       " -962,\n",
       " -963,\n",
       " -964,\n",
       " -965,\n",
       " -966,\n",
       " -967,\n",
       " -968,\n",
       " -969,\n",
       " -970,\n",
       " -971,\n",
       " -972,\n",
       " -973,\n",
       " -974,\n",
       " -975,\n",
       " -976,\n",
       " -977,\n",
       " -978,\n",
       " -979,\n",
       " -980,\n",
       " -981,\n",
       " -982,\n",
       " -983,\n",
       " -984,\n",
       " -985,\n",
       " -986,\n",
       " -987,\n",
       " -988,\n",
       " -989,\n",
       " -990,\n",
       " -991,\n",
       " -992,\n",
       " -993,\n",
       " -994,\n",
       " -995,\n",
       " -996,\n",
       " -997,\n",
       " -998,\n",
       " -999,\n",
       " -1000,\n",
       " ...]"
      ]
     },
     "execution_count": 34,
     "metadata": {},
     "output_type": "execute_result"
    }
   ],
   "source": [
    "arrow_axioms = [iie, nondictatorship, unanimity, grounded]\n",
    "\n",
    "cnf = []\n",
    "for axiom in arrow_axioms:\n",
    "    print(f\"generating CNF for axiom {axiom}\")\n",
    "    new_cnfs = axiom()\n",
    "    cnf += new_cnfs\n",
    "\n",
    "print(\"Total clauses:\", len(cnf))\n",
    "\n",
    "solve(cnf)"
   ]
  },
  {
   "cell_type": "code",
   "execution_count": 18,
   "id": "0171f0f1",
   "metadata": {},
   "outputs": [
    {
     "data": {
      "text/plain": [
       "'# prepare properties cnf\\nprop_cnf = []\\nfor fn in prop_fns:\\n    prop_cnf += fn()\\n\\npp_cnf = [] # properties, repeated for each profile\\n# generate prof-prop clauses\\nfor E in allProfiles():\\n    for clause in prop_cnf:\\n        try:\\n            pp_cnf.append(tuple([toLiteral(lit, E)[0] for lit in clause]))\\n        except TypeError as e:\\n            print(clause)\\n            print(e)\\n\\ncr_sols = []\\nfor i, sol in enumerate(solutions):\\n    \\n    cr_cnf = [(s,) for s in sol] + pp_cnf.copy()\\n    is_sat = solve(cr_cnf)\\n\\n    if is_sat == \\'UNSATISFIABLE\\':\\n        print(f\"SOL {i}: NOT COLLECTIVELY RATIONAL\")\\n    else:\\n        cr_sols.append(sol)\\n        print(f\"SOL {i}: COLLECTIVELY RATIONAL\")\\n\\nprint(f\"{len(cr_sols)} TOTAL CR SOLUTIONS\")'"
      ]
     },
     "execution_count": 18,
     "metadata": {},
     "output_type": "execute_result"
    }
   ],
   "source": [
    "solutions = list(enumModels(cnf))\n",
    "\n",
    "\"\"\"# prepare properties cnf\n",
    "prop_cnf = []\n",
    "for fn in prop_fns:\n",
    "    prop_cnf += fn()\n",
    "\n",
    "pp_cnf = [] # properties, repeated for each profile\n",
    "# generate prof-prop clauses\n",
    "for E in allProfiles():\n",
    "    for clause in prop_cnf:\n",
    "        try:\n",
    "            pp_cnf.append(tuple([toLiteral(lit, E)[0] for lit in clause]))\n",
    "        except TypeError as e:\n",
    "            print(clause)\n",
    "            print(e)\n",
    "\n",
    "cr_sols = []\n",
    "for i, sol in enumerate(solutions):\n",
    "    \n",
    "    cr_cnf = [(s,) for s in sol] + pp_cnf.copy()\n",
    "    is_sat = solve(cr_cnf)\n",
    "\n",
    "    if is_sat == 'UNSATISFIABLE':\n",
    "        print(f\"SOL {i}: NOT COLLECTIVELY RATIONAL\")\n",
    "    else:\n",
    "        cr_sols.append(sol)\n",
    "        print(f\"SOL {i}: COLLECTIVELY RATIONAL\")\n",
    "\n",
    "print(f\"{len(cr_sols)} TOTAL CR SOLUTIONS\")\"\"\""
   ]
  },
  {
   "cell_type": "code",
   "execution_count": 19,
   "metadata": {},
   "outputs": [],
   "source": [
    "#def colrec(sols, )"
   ]
  },
  {
   "cell_type": "code",
   "execution_count": 20,
   "metadata": {},
   "outputs": [
    {
     "data": {
      "text/plain": [
       "0"
      ]
     },
     "execution_count": 20,
     "metadata": {},
     "output_type": "execute_result"
    }
   ],
   "source": [
    "len(list(enumModels(cnf)))"
   ]
  },
  {
   "cell_type": "markdown",
   "id": "37007990",
   "metadata": {},
   "source": [
    "It will be convenient to also represent preferences and profiles as integers (just think of some enumeration of all preferences and assign integers to them, starting with `0`, and similarly for profiles). The method below can be used to return the set of all such integers representing profiles (we happen to not require a corresponding method for preferences)."
   ]
  },
  {
   "cell_type": "code",
   "execution_count": 21,
   "id": "49187b83",
   "metadata": {},
   "outputs": [
    {
     "name": "stdout",
     "output_type": "stream",
     "text": [
      "Expected clauses:  839808\n",
      "Unanimous: not (0, 0, 0)-> (0,1)\n",
      "Unanimous: not (0, 0, 0)-> (1,0)\n",
      "None: (0, 0, 0)-> (0,1) or (0, 0, 0)-> (1,0)\n"
     ]
    }
   ],
   "source": [
    "mus = getMUS(cnf)\n",
    "\n",
    "from explain import Explain\n",
    "ex = Explain(arrow_axioms)\n",
    "ex(mus)"
   ]
  },
  {
   "cell_type": "code",
   "execution_count": null,
   "metadata": {},
   "outputs": [],
   "source": []
  }
 ],
 "metadata": {
  "kernelspec": {
   "display_name": "Python 3 (ipykernel)",
   "language": "python",
   "name": "python3"
  },
  "language_info": {
   "codemirror_mode": {
    "name": "ipython",
    "version": 3
   },
   "file_extension": ".py",
   "mimetype": "text/x-python",
   "name": "python",
   "nbconvert_exporter": "python",
   "pygments_lexer": "ipython3",
   "version": "3.10.13"
  }
 },
 "nbformat": 4,
 "nbformat_minor": 5
}
