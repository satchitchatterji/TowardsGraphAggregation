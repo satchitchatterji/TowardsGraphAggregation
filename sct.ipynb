{
 "cells": [
  {
   "cell_type": "markdown",
   "id": "37e84806",
   "metadata": {},
   "source": [
    "# Towards SAT Solving for Graph Aggregation\n",
    "This notebook is based on the notebook for the course on *Computational Social Choice*, demonstrating how to use SAT-solving technology to reason about voting rules, prepared by [Ulle Endriss](https://staff.science.uva.nl/u.endriss/), ILLC, University of Amsterdam (November 2023).\n",
    "\n",
    "This notebook is part of the implementation of a project extending SAT solving to the graph aggregation domain, as set up by [Endriss & Grandi, 2018](https://dl.acm.org/doi/abs/10.1145/3184558.3186231)."
   ]
  },
  {
   "cell_type": "markdown",
   "id": "a8e1801d",
   "metadata": {},
   "source": [
    "## System Requirements\n",
    "You need to be able to run [Jupyter Notebooks](https://realpython.com/jupyter-notebook-introduction/) for Python 3 and you need to have the [PySAT](https://pysathq.github.io/) toolkit [installed](https://pysathq.github.io/installation/) on your machine. "
   ]
  },
  {
   "cell_type": "markdown",
   "id": "0cf17a6e",
   "metadata": {},
   "source": [
    "## Using this Notebook\n",
    "The recommended way of using this notebook is to first restart the kernel and then run the entire notebook cell by cell. With the exception of two cells near the end of the notebook, this should not generate any error messages. Then go to any of the cells labelled **\"Try it!\"** and see what happens when you make changes to those cells and run them again.\n",
    "\n",
    "Beware that some of the code is only explained on the slides and not here. Note that I followed to a 'minimalist' coding philosophy: trying to write as little code as possible and trying to make that code as easy to understand as possible. So this is neither maximally efficient (but easily fast enough for our present needs) nor maximally robust (but it works fine when used as intended)."
   ]
  },
  {
   "cell_type": "markdown",
   "id": "68d6e5c2",
   "metadata": {},
   "source": [
    "## Imports\n",
    "We first import some extra functionality from standard Python modules, so we can easily (a) compute the factorial of a given number, (b) work with the list of all permutations of a given list, and (c) randomly shuffle a given list."
   ]
  },
  {
   "cell_type": "code",
   "execution_count": 1,
   "id": "21708e31",
   "metadata": {},
   "outputs": [],
   "source": [
    "from math import factorial\n",
    "from itertools import permutations\n",
    "from random import shuffle"
   ]
  },
  {
   "cell_type": "markdown",
   "id": "1358af1c",
   "metadata": {},
   "source": [
    "## SAT Solving\n",
    "We want to use SAT-solving technology to reason about voting rules. In this section, we provide the methods required to make this technology available to us. Specifically, we define methods to check whether a given formula is satisfiable, to enumerate all models of a satisfiable formula, and to compute a minimally unsatisfiable subset (MUS) of an unsatisfiable set of clauses. Our methods are simple wrappers around more sophisticated versions of the same methods provided by PySAT. Note that none of this is specific to our intended application to social choice theory. \n",
    "\n",
    "A *SAT solver* is a program that can determine whether a given formula of propositional logic is *satisfiable*. Recall that a formula $\\varphi$ is satisfiable if there exists an assignment of truth values to the propositional variables occurring in $\\varphi$ for which $\\varphi$ evaluates to *true*. Formulas must be provided in *conjunctive normal form* (CNF). Recall that a formula in CNF is a conjunction ('and') of *clauses*, with a clause being a disjunction ('or') of *literals*. A literal, in turn, is either a propositional variable or the negation of a propositional variable. \n",
    "\n",
    "In our code, we use positive integers to represent positive literals (i.e., propositional variables), negative integers to represent negative literals (i.e., negations of propositional variables), lists of integers to represent clauses, and lists of such lists to represent formulas in CNF. Thus, for example, the list `[[1,-3,2],[-2]]` represents the formula $(p_1 \\lor \\neg p_3 \\lor p_2) \\land (\\neg p_2)$. This is known as the DIMACS format.\n",
    "\n",
    "We first import the required functionality from PySAT. The first import makes available the solver Glucose 3.0 (any of the other solvers should work just as well). The second makes available a module for working with weighted formulas in CNF, which is required for the implementation of the MUS extractor provided by means of the third import."
   ]
  },
  {
   "cell_type": "code",
   "execution_count": 2,
   "id": "71bff848",
   "metadata": {},
   "outputs": [],
   "source": [
    "from pysat.solvers import Glucose3\n",
    "from pysat.formula import WCNF\n",
    "from pysat.examples.musx import MUSX"
   ]
  },
  {
   "cell_type": "markdown",
   "id": "52aeae7e",
   "metadata": {},
   "source": [
    "The method `solve()` implemented below offers easy access to the corresponding method of our chosen SAT solver. If you apply this method to a formula $\\varphi$ in CNF, it will return the string `UNSATISFIABLE` in case $\\varphi$ is unsatisfiable, and otherwise a *model* that satisfies $\\varphi$. Any such a model is presented in the form of a list of positive and negative integers, indicating which propositional variables must be set to *true* and which must be set to *false*."
   ]
  },
  {
   "cell_type": "code",
   "execution_count": 3,
   "id": "c68a2e20",
   "metadata": {},
   "outputs": [],
   "source": [
    "def solve(cnf):\n",
    "    solver = Glucose3()\n",
    "    for clause in cnf: solver.add_clause(clause)\n",
    "    if solver.solve():\n",
    "        return solver.get_model()\n",
    "    else:\n",
    "        return('UNSATISFIABLE')"
   ]
  },
  {
   "cell_type": "markdown",
   "id": "09f28f86",
   "metadata": {},
   "source": [
    "**Try it!** You can change the CNF formula (i.e., the list of lists of integers) in the example below to test different formulas for their satisfiability."
   ]
  },
  {
   "cell_type": "code",
   "execution_count": 4,
   "id": "06a17d65",
   "metadata": {},
   "outputs": [
    {
     "data": {
      "text/plain": [
       "'UNSATISFIABLE'"
      ]
     },
     "execution_count": 4,
     "metadata": {},
     "output_type": "execute_result"
    }
   ],
   "source": [
    "solve([[1,2], [1,-2], [-1,2], [-1,-2]])"
   ]
  },
  {
   "cell_type": "markdown",
   "id": "72af0d0e",
   "metadata": {},
   "source": [
    "The method `enumModels()` can be used to enumerate all satisfying models of a given formula in CNF. Keep in mind that this is a demanding operation and that the number of models can be huge. Note that the object returned by `enumModels()` is an iterator (not a list). A simple way of inspecting it is to use the `list()` method on the object returned by `enumModels()`."
   ]
  },
  {
   "cell_type": "code",
   "execution_count": 5,
   "id": "e6b8f1f8",
   "metadata": {},
   "outputs": [],
   "source": [
    "def enumModels(cnf):\n",
    "    solver = Glucose3()\n",
    "    for clause in cnf: solver.add_clause(clause)\n",
    "    return solver.enum_models()"
   ]
  },
  {
   "cell_type": "markdown",
   "id": "c049d2f0",
   "metadata": {},
   "source": [
    "**Try it!**"
   ]
  },
  {
   "cell_type": "code",
   "execution_count": 6,
   "id": "cd85d25d",
   "metadata": {},
   "outputs": [
    {
     "name": "stdout",
     "output_type": "stream",
     "text": [
      "[[-1, 2, -3], [1, 2, 3]]\n"
     ]
    }
   ],
   "source": [
    "models = enumModels([[-1,-2,3], [2], [-3,1]])\n",
    "print(list(models))"
   ]
  },
  {
   "cell_type": "markdown",
   "id": "635af52d",
   "metadata": {},
   "source": [
    "The method `getMUS()` can be used to compute an MUS for a given formula in CNF (which should be unsatisfiable). Note that a given formula might have more than one MUS, and `getMUS()` does not necessarily return the smallest MUS (because computing a cardinality-minimal MUS is a much more demanding operation)."
   ]
  },
  {
   "cell_type": "code",
   "execution_count": 7,
   "id": "46178661",
   "metadata": {},
   "outputs": [],
   "source": [
    "def getMUS(cnf):\n",
    "    wcnf = WCNF()\n",
    "    for clause in cnf: wcnf.append(clause, 1)\n",
    "    mus = MUSX(wcnf,verbosity=0).compute()\n",
    "    return list(cnf[i-1] for i in mus)"
   ]
  },
  {
   "cell_type": "markdown",
   "id": "94230547",
   "metadata": {},
   "source": [
    "**Try it!** The list we obtain represents an unsatisfiable set of clauses that becomes satisfiable as soon as we remove even a single clause from it."
   ]
  },
  {
   "cell_type": "code",
   "execution_count": 8,
   "id": "4ea37520",
   "metadata": {},
   "outputs": [
    {
     "data": {
      "text/plain": [
       "[[-1, 2], [1], [-2]]"
      ]
     },
     "execution_count": 8,
     "metadata": {},
     "output_type": "execute_result"
    }
   ],
   "source": [
    "getMUS([[-1,2], [1], [-3,4], [-2], [3,-4]])"
   ]
  },
  {
   "cell_type": "code",
   "execution_count": null,
   "id": "2572ad5b-9e2c-4a9f-b130-1001a83c9ff8",
   "metadata": {},
   "outputs": [],
   "source": []
  },
  {
   "cell_type": "markdown",
   "id": "5dbdeba9",
   "metadata": {},
   "source": [
    "## Preferences and Profiles\n",
    "In this section, we set up everything we need to represent (a) voters, (b) alternatives, (c) preferences of a single voter over the alternatives, and (d) profiles bundling the preferences of all voters. Observe that $n$ voters and $m$ alternatives, there are $m!$ possible preferences and $m!^n$ possible profiles.\n",
    "\n",
    "We first fix `n`, the number of voters, and `m`, the number of alternatives. For much of what we are going to do, we shall assume `n = 2` and `m = 3`. Keep in mind that the number of objects we are dealing with grows exponentially in `n` and superexponentially in `m`, so things are unlikely to work well (or at all) for even moderately larger numbers."
   ]
  },
  {
   "cell_type": "code",
   "execution_count": 9,
   "id": "323add38",
   "metadata": {},
   "outputs": [],
   "source": [
    "from config import config"
   ]
  },
  {
   "cell_type": "code",
   "execution_count": 10,
   "id": "85ffba5c",
   "metadata": {},
   "outputs": [],
   "source": [
    "# config, utils, axioms, properties, literals\n",
    "from config import config\n",
    "from utils import *\n",
    "from axioms import *\n",
    "from properties import *"
   ]
  },
  {
   "cell_type": "code",
   "execution_count": 11,
   "id": "168aa692",
   "metadata": {},
   "outputs": [
    {
     "data": {
      "text/plain": [
       "[(1,), (-2,), (-3,), (-4,)]"
      ]
     },
     "execution_count": 11,
     "metadata": {},
     "output_type": "execute_result"
    }
   ],
   "source": [
    "graphCNF(get_graph(1, config.v))"
   ]
  },
  {
   "cell_type": "code",
   "execution_count": 12,
   "id": "c863bf03",
   "metadata": {},
   "outputs": [
    {
     "data": {
      "text/plain": [
       "[(2, 3), (3, 2)]"
      ]
     },
     "execution_count": 12,
     "metadata": {},
     "output_type": "execute_result"
    }
   ],
   "source": [
    "cnfCompleteness()"
   ]
  },
  {
   "cell_type": "code",
   "execution_count": 13,
   "id": "22fee494",
   "metadata": {},
   "outputs": [],
   "source": [
    "def generate_graph_subsets(cnf_properties):\n",
    "    acceptable_graphs = []\n",
    "    for graph_int in allGraphs():\n",
    "        edges = get_graph(graph_int, config.v)\n",
    "        cnf = graphCNF(edges)\n",
    "        for cnf_property in cnf_properties:\n",
    "            cnf += cnf_property()\n",
    "#         print(cnf)\n",
    "        if solve(cnf) != 'UNSATISFIABLE':\n",
    "            acceptable_graphs.append(graph_int)\n",
    "            \n",
    "    return acceptable_graphs"
   ]
  },
  {
   "cell_type": "code",
   "execution_count": 18,
   "id": "4ca9499a",
   "metadata": {},
   "outputs": [
    {
     "name": "stdout",
     "output_type": "stream",
     "text": [
      "2\n"
     ]
    }
   ],
   "source": [
    "graphs = generate_graph_subsets([cnfIrreflexivity, cnfTransitivity, cnfCompleteness])\n",
    "# graphs = generate_graph_subsets([cnfIrreflexivity, cnfConnectedness, cnfTransitivity, cnfCompleteness])\n",
    "print(len(graphs))\n",
    "config.g = len(graphs)"
   ]
  },
  {
   "cell_type": "code",
   "execution_count": 19,
   "id": "5f29f152",
   "metadata": {
    "scrolled": false
   },
   "outputs": [
    {
     "name": "stdout",
     "output_type": "stream",
     "text": [
      "[(0, 1)]\n"
     ]
    },
    {
     "data": {
      "image/png": "[encoded data removed]",
      "text/plain": [
       "<Figure size 640x480 with 1 Axes>"
      ]
     },
     "metadata": {},
     "output_type": "display_data"
    },
    {
     "name": "stdout",
     "output_type": "stream",
     "text": [
      "[(1, 0)]\n"
     ]
    },
    {
     "data": {
      "image/png": "[encoded data removed]",
      "text/plain": [
       "<Figure size 640x480 with 1 Axes>"
      ]
     },
     "metadata": {},
     "output_type": "display_data"
    }
   ],
   "source": [
    "from plot import draw_labeled_graph\n",
    "for graph in graphs:\n",
    "    edges = get_graph(graph, config.v)\n",
    "    print(edges)\n",
    "    draw_labeled_graph(edges, config.v)"
   ]
  },
  {
   "cell_type": "code",
   "execution_count": 20,
   "id": "8c9b146f",
   "metadata": {},
   "outputs": [
    {
     "name": "stdout",
     "output_type": "stream",
     "text": [
      "generating CNF for axiom <function nondictatorship at 0x000001CD91906200>\n",
      "Expected clauses:  72\n",
      "generating CNF for axiom <function unanimity at 0x000001CD919060E0>\n",
      "Expected clauses:  8\n",
      "generating CNF for axiom <function grounded at 0x000001CD91906170>\n",
      "Expected clauses:  24\n",
      "Total clauses: 56\n"
     ]
    }
   ],
   "source": [
    "# arrow_axioms = [iie, nondictatorship, unanimity, grounded]\n",
    "arrow_axioms = [nondictatorship, unanimity, grounded]\n",
    "cnf = []\n",
    "total_c = 0\n",
    "for axiom in arrow_axioms:\n",
    "    print(f\"generating CNF for axiom {axiom}\")\n",
    "    new_cnfs = axiom(graphs)\n",
    "    cnf += new_cnfs\n",
    "#     print(len(new_cnfs))\n",
    "\n",
    "print(\"Total clauses:\", len(cnf))"
   ]
  },
  {
   "cell_type": "code",
   "execution_count": 21,
   "id": "0171f0f1",
   "metadata": {},
   "outputs": [
    {
     "data": {
      "text/plain": [
       "'UNSATISFIABLE'"
      ]
     },
     "execution_count": 21,
     "metadata": {},
     "output_type": "execute_result"
    }
   ],
   "source": [
    "solve(cnf)"
   ]
  },
  {
   "cell_type": "markdown",
   "id": "37007990",
   "metadata": {},
   "source": [
    "It will be convenient to also represent preferences and profiles as integers (just think of some enumeration of all preferences and assign integers to them, starting with `0`, and similarly for profiles). The method below can be used to return the set of all such integers representing profiles (we happen to not require a corresponding method for preferences)."
   ]
  },
  {
   "cell_type": "code",
   "execution_count": null,
   "id": "49187b83",
   "metadata": {},
   "outputs": [],
   "source": [
    "getMUS(cnf)"
   ]
  },
  {
   "cell_type": "markdown",
   "id": "8f6f3997",
   "metadata": {},
   "source": [
    "**Try it!**"
   ]
  },
  {
   "cell_type": "markdown",
   "id": "e80b2365",
   "metadata": {},
   "source": [
    "The next three methods allow us to retrieve lists of voters, alternatives, and profiles, respectively, that meet a certain condition. Such a condition can be any function mapping objects of the appropriate types to a boolean value."
   ]
  },
  {
   "cell_type": "code",
   "execution_count": null,
   "id": "64104206",
   "metadata": {},
   "outputs": [],
   "source": [
    "def voters(condition):\n",
    "    return [i for i in allVoters() if condition(i)]"
   ]
  },
  {
   "cell_type": "code",
   "execution_count": null,
   "id": "55e98f14",
   "metadata": {},
   "outputs": [],
   "source": [
    "def alternatives(condition):\n",
    "    return [x for x in allAlternatives() if condition(x)]"
   ]
  },
  {
   "cell_type": "code",
   "execution_count": null,
   "id": "47021d54",
   "metadata": {},
   "outputs": [],
   "source": [
    "def profiles(condition):\n",
    "    return [r for r in allProfiles() if condition(r)]"
   ]
  },
  {
   "cell_type": "markdown",
   "id": "1df99a0e",
   "metadata": {},
   "source": [
    "**Try it!** For example, using [lambda expressions](https://realpython.com/python-lambda/) in Python to define suitable (boolean) conditions, we can retrieve the list of all alternatives that are different from alternative ``1``."
   ]
  },
  {
   "cell_type": "code",
   "execution_count": null,
   "id": "3c4dff17",
   "metadata": {},
   "outputs": [],
   "source": [
    "alternatives(lambda x : x!=1)"
   ]
  },
  {
   "cell_type": "markdown",
   "id": "5b851c54",
   "metadata": {},
   "source": [
    "Method `preference()` can be used to retrieve the number representing the preference order reported by a given voter `i` in a given profile `r`. The way I have chosen to implement this is to think of the numbers representing profiles as being written down in an `m!`-ary number system in which each digit represents the preference order of one voter (with voters being listed in inverse order, for technical convenience). For example, for `n=2` and `m=3`, profiles are 2-digit numbers with digits ranging from `0` to `5`. In this case, profile `50` (representing the number $5 \\cdot 3!^1 + 0\\cdot 3!^0 = 30$ in the decimal system) is the profile in which the second voter (corresponding to the first digit) has the last possible preference order (say, `2>1>0`) and the first voter (corresponding to the second digit) has the first possible preference order (say, `0>1>2`)."
   ]
  },
  {
   "cell_type": "code",
   "execution_count": null,
   "id": "45e9e465",
   "metadata": {},
   "outputs": [],
   "source": [
    "def preference(i, r):\n",
    "    base = factorial(m)\n",
    "    return ( r % (base ** (i+1)) ) // (base ** i)"
   ]
  },
  {
   "cell_type": "markdown",
   "id": "4e1ad0d8",
   "metadata": {},
   "source": [
    "Method `iVariants()` can be used to check whether profiles `r1` and `r2` are `i`-variants, i.e., to check whether in the two profiles all voters, except possibly voter `i`, report the same preferences."
   ]
  },
  {
   "cell_type": "code",
   "execution_count": null,
   "id": "0983c198",
   "metadata": {},
   "outputs": [],
   "source": [
    "def iVariants(i, r1, r2):\n",
    "    return all(preference(j,r1) == preference(j,r2)\n",
    "               for j in voters(lambda j : j!=i))"
   ]
  },
  {
   "cell_type": "markdown",
   "id": "61017161",
   "metadata": {},
   "source": [
    "Method `preflist()` can be used to retrieve a list-representation of the preference order of a given voter `i` in a given profile `r`. This is implemented by generating the list of all permutations of the alternatives and then picking the $k$th element of that big list, where $k$ is obtained using `preference(i,r)`."
   ]
  },
  {
   "cell_type": "code",
   "execution_count": null,
   "id": "e75d1ede",
   "metadata": {},
   "outputs": [],
   "source": [
    "def preflist(i, r):\n",
    "    preflists = list(permutations(allAlternatives()))\n",
    "    return preflists[preference(i,r)]"
   ]
  },
  {
   "cell_type": "markdown",
   "id": "6da10577",
   "metadata": {},
   "source": [
    "We now have everything in place to implement the top-level methods we will actually need to reason about preferences and profiles. First among them is `prefers()`, which we can use to check whether voter `i` prefers alternative `x` to alternative `y` in profile `r`."
   ]
  },
  {
   "cell_type": "code",
   "execution_count": null,
   "id": "28c5ae72",
   "metadata": {},
   "outputs": [],
   "source": [
    "def prefers(i, x, y, r):\n",
    "    mylist =  preflist(i, r) \n",
    "    return mylist.index(x) < mylist.index(y)"
   ]
  },
  {
   "cell_type": "markdown",
   "id": "195eb649",
   "metadata": {},
   "source": [
    "**Try it!** Let's check, for example, whether the second voter (`1`) prefers the first alternative (`0`) to the third alternative (`2`) in profile number `30`. "
   ]
  },
  {
   "cell_type": "code",
   "execution_count": null,
   "id": "aea59a85",
   "metadata": {},
   "outputs": [],
   "source": [
    "prefers(1,0,2,30)"
   ]
  },
  {
   "cell_type": "markdown",
   "id": "d0eacfa0",
   "metadata": {},
   "source": [
    "Method `top()` can be used to check whether voter `i` has alternative `x` at the top of her preference order in profile `r`."
   ]
  },
  {
   "cell_type": "code",
   "execution_count": null,
   "id": "9d2de348",
   "metadata": {},
   "outputs": [],
   "source": [
    "def top(i, x, r):\n",
    "    mylist =  preflist(i, r) \n",
    "    return mylist.index(x) == 0"
   ]
  },
  {
   "cell_type": "markdown",
   "id": "207f2097",
   "metadata": {},
   "source": [
    "**Try it!**"
   ]
  },
  {
   "cell_type": "code",
   "execution_count": null,
   "id": "63396b49",
   "metadata": {},
   "outputs": [],
   "source": [
    "top(1,2,30)"
   ]
  },
  {
   "cell_type": "markdown",
   "id": "b3c7225b",
   "metadata": {},
   "source": [
    "The next two methods are simple *pretty-print* methods for preferences and profiles, respectively."
   ]
  },
  {
   "cell_type": "code",
   "execution_count": null,
   "id": "30f98d14",
   "metadata": {},
   "outputs": [],
   "source": [
    "def strPref(i, r):\n",
    "    return ''.join(str(x) for x in preflist(i,r))"
   ]
  },
  {
   "cell_type": "code",
   "execution_count": null,
   "id": "4a66cf20",
   "metadata": {},
   "outputs": [],
   "source": [
    "def strProf(r):\n",
    "    return '(' + ','.join(strPref(i,r) for i in allVoters()) + ')'"
   ]
  },
  {
   "cell_type": "markdown",
   "id": "76183c11",
   "metadata": {},
   "source": [
    "**Try it!**"
   ]
  },
  {
   "cell_type": "code",
   "execution_count": null,
   "id": "a2eb2e2a",
   "metadata": {},
   "outputs": [],
   "source": [
    "strProf(30)"
   ]
  },
  {
   "cell_type": "markdown",
   "id": "f3daf66f",
   "metadata": {},
   "source": [
    "## Encoding Voting Rules"
   ]
  },
  {
   "cell_type": "markdown",
   "id": "5b2237f8",
   "metadata": {},
   "source": [
    "Method `posLiteral()` can be used to return the positive literal corresponding to the statement that in profile `r` it is the case that alternative `x` is a winner (but not necessarily the only one). Method `negLiteral()` returns the corresponding negative literal."
   ]
  },
  {
   "cell_type": "code",
   "execution_count": null,
   "id": "da3d00d2",
   "metadata": {},
   "outputs": [],
   "source": [
    "def posLiteral(r, x):\n",
    "    return r * m + x + 1"
   ]
  },
  {
   "cell_type": "code",
   "execution_count": null,
   "id": "8d013bd2-de9d-4c8e-b99b-0573f35183f4",
   "metadata": {},
   "outputs": [],
   "source": [
    "posLiteral(1,2)"
   ]
  },
  {
   "cell_type": "code",
   "execution_count": null,
   "id": "085ed9a3",
   "metadata": {},
   "outputs": [],
   "source": [
    "def negLiteral(r, x):\n",
    "    return (-1) * posLiteral(r, x)"
   ]
  },
  {
   "cell_type": "markdown",
   "id": "2eb7a97b",
   "metadata": {},
   "source": [
    "Method `strLiteral()` provide a simple *pretty-print* method for literals, and `strClause()` extends this to clauses (i.e., to lists of literals)."
   ]
  },
  {
   "cell_type": "code",
   "execution_count": null,
   "id": "393cf822",
   "metadata": {},
   "outputs": [],
   "source": [
    "def strLiteral(lit):\n",
    "    r = (abs(lit) - 1) // m\n",
    "    x = (abs(lit) - 1) % m\n",
    "    return ('not ' if lit<0 else '') + strProf(r) + '->' + str(x)"
   ]
  },
  {
   "cell_type": "code",
   "execution_count": null,
   "id": "4ec5ac38",
   "metadata": {},
   "outputs": [],
   "source": [
    "def strClause(clause):\n",
    "    return ' or '.join(strLiteral(lit) for lit in clause)"
   ]
  },
  {
   "cell_type": "markdown",
   "id": "dd9391ec",
   "metadata": {},
   "source": [
    "Method `cnfAtLeastOne()` returns the CNF encoding the statement that a voting rule must always return at least one winner."
   ]
  },
  {
   "cell_type": "code",
   "execution_count": null,
   "id": "86242fbe",
   "metadata": {},
   "outputs": [],
   "source": [
    "def cnfAtLeastOne():\n",
    "    cnf = []\n",
    "    for r in allProfiles():\n",
    "        cnf.append([posLiteral(r,x) for x in allAlternatives()])\n",
    "    return cnf    "
   ]
  },
  {
   "cell_type": "markdown",
   "id": "444a72b8",
   "metadata": {},
   "source": [
    "Method `cnfResolute()` returns the CNF encoding the requirement that our voting rule must be resolute."
   ]
  },
  {
   "cell_type": "code",
   "execution_count": null,
   "id": "0cb1f269",
   "metadata": {},
   "outputs": [],
   "source": [
    "def cnfResolute():\n",
    "    cnf = []\n",
    "    for r in allProfiles():\n",
    "        for x in allAlternatives():\n",
    "            for y in alternatives(lambda y : x < y):\n",
    "                cnf.append([negLiteral(r,x), negLiteral(r,y)])\n",
    "    return cnf            "
   ]
  },
  {
   "cell_type": "markdown",
   "id": "487f1c8e",
   "metadata": {},
   "source": [
    "## Axioms\n",
    "The following axioms encode various axioms we might want our voting rule to satisfy. Refer to the slide deck for explanation."
   ]
  },
  {
   "cell_type": "code",
   "execution_count": null,
   "id": "d5d71791",
   "metadata": {},
   "outputs": [],
   "source": [
    "def cnfStrategyProof():\n",
    "    cnf = []\n",
    "    for i in allVoters():\n",
    "        for r1 in allProfiles():\n",
    "            for r2 in profiles(lambda r2 : iVariants(i,r1,r2)):\n",
    "                for x in allAlternatives():\n",
    "                    for y in alternatives(lambda y : prefers(i,x,y,r1)):\n",
    "                        cnf.append([negLiteral(r1,y), negLiteral(r2,x)])\n",
    "    return cnf                    "
   ]
  },
  {
   "cell_type": "code",
   "execution_count": null,
   "id": "1607b65f",
   "metadata": {},
   "outputs": [],
   "source": [
    "def cnfSurjective():\n",
    "    cnf = []\n",
    "    for x in allAlternatives():\n",
    "        cnf.append([posLiteral(r,x) for r in allProfiles()])\n",
    "    return cnf    "
   ]
  },
  {
   "cell_type": "code",
   "execution_count": null,
   "id": "9960ba91",
   "metadata": {},
   "outputs": [],
   "source": [
    "def cnfNonDictatorial():\n",
    "    cnf = []\n",
    "    for i in allVoters():\n",
    "        clause = []\n",
    "        for r in allProfiles():\n",
    "            for x in alternatives(lambda x : top(i,x,r)):\n",
    "                clause.append(negLiteral(r,x))\n",
    "        cnf.append(clause)\n",
    "    return cnf    "
   ]
  },
  {
   "cell_type": "code",
   "execution_count": null,
   "id": "93546fe8",
   "metadata": {},
   "outputs": [],
   "source": [
    "def most(bools):\n",
    "    return sum(bools) > len(list(bools)) / 2\n",
    "\n",
    "def cnfMajoritarian():\n",
    "    cnf = []\n",
    "    for x in allAlternatives():\n",
    "        for r in profiles(lambda r : most(list(top(i,x,r) for i in allVoters()))):\n",
    "            cnf.append([posLiteral(r,x)])\n",
    "    return cnf"
   ]
  },
  {
   "cell_type": "markdown",
   "id": "b4daff9c",
   "metadata": {},
   "source": [
    "The dictionary `axiom` associates names of axioms (i.e., strings) with methods generating the formulas encoding those axioms. This will be useful later on when we want to determine which axiom was responsible for a given clause to have been generated. (For convenience and by a slight abuse of terminology, we are including the requirements of always returning at least one winner and to be resolute in our list of axioms here.) "
   ]
  },
  {
   "cell_type": "code",
   "execution_count": null,
   "id": "00cd3758",
   "metadata": {},
   "outputs": [],
   "source": [
    "axiom = {\n",
    "    'AtLeastOne' : cnfAtLeastOne(),\n",
    "    'Resolute' : cnfResolute(),\n",
    "    'StrategyProof' : cnfStrategyProof(),\n",
    "    'Surjective' : cnfSurjective(),\n",
    "    'NonDictatorial' : cnfNonDictatorial(),\n",
    "    'Majoritarian' : cnfMajoritarian()\n",
    "}"
   ]
  },
  {
   "cell_type": "markdown",
   "id": "fdf67178",
   "metadata": {},
   "source": [
    "## Explaining Formulas\n",
    "For a given clause or CNF, respectively, the next two methods allow us to display a simple explanation for how this formula has been generated. "
   ]
  },
  {
   "cell_type": "code",
   "execution_count": null,
   "id": "146b755f",
   "metadata": {},
   "outputs": [],
   "source": [
    "def explainClause(clause):\n",
    "    reason = next((k for k in axiom if clause in axiom[k]), 'None')\n",
    "    print(reason + ': ' + strClause(clause))"
   ]
  },
  {
   "cell_type": "code",
   "execution_count": null,
   "id": "9a67a00d",
   "metadata": {},
   "outputs": [],
   "source": [
    "def explainCNF(cnf):\n",
    "    for clause in cnf: explainClause(clause)"
   ]
  },
  {
   "cell_type": "markdown",
   "id": "4a3467dd",
   "metadata": {},
   "source": [
    "**Try it!** "
   ]
  },
  {
   "cell_type": "code",
   "execution_count": null,
   "id": "895ac169",
   "metadata": {},
   "outputs": [],
   "source": [
    "explainClause([-10,-17])"
   ]
  },
  {
   "cell_type": "markdown",
   "id": "cf5b0594-e2a9-4b42-ae9b-1f0183471cc4",
   "metadata": {},
   "source": [
    "## HW4"
   ]
  },
  {
   "cell_type": "code",
   "execution_count": null,
   "id": "d7eaba9a-232a-43d1-bbf0-b2713c6b0743",
   "metadata": {},
   "outputs": [],
   "source": [
    "def profile_preflist(r):\n",
    "    # gets preflists for all players for profile (index) r\n",
    "    profile = []\n",
    "    for i in allVoters():\n",
    "        prefs = preflist(i,r)\n",
    "        profile.append(prefs)\n",
    "        \n",
    "    return profile\n",
    "\n",
    "def align_profiles(r1_int,r2_int):\n",
    "    r1 = profile_preflist(r1_int)\n",
    "    r2 = profile_preflist(r2_int)\n",
    "    # check if swapping indices will yield the same profile (for checking neutrality)\n",
    "    perms = list(permutations(allAlternatives()))\n",
    "    perms.remove(tuple(allAlternatives()))\n",
    "    #print(perms)\n",
    "    for pe in perms:\n",
    "        # try every \"rename\" permutation to test equivalence between two profiles\n",
    "        r2_rename = []\n",
    "        for pl in r2:\n",
    "            # redo each ballot\n",
    "            plist = []\n",
    "            for x in pl:\n",
    "                #swap alternative with the \"equivalent\" in the permutation\n",
    "                plist.append(pe[x])\n",
    "                \n",
    "            r2_rename.append(tuple(plist))\n",
    "        \n",
    "        if r1 == r2_rename:\n",
    "            return True, pe\n",
    "                \n",
    "    return False, False"
   ]
  },
  {
   "cell_type": "code",
   "execution_count": null,
   "id": "0795980f-9c96-45a8-8a55-473f6deba0d6",
   "metadata": {},
   "outputs": [],
   "source": [
    "def cnfAnonymous():\n",
    "    # ANONYMITY: if two profiles have the same preference rankings just from different voters, then the winner must remain the same\n",
    "    # VIOLATION: two profiles have the exact same preferences, but the winner changes\n",
    "    cnf = []\n",
    "    # cycle through all profiles\n",
    "    for r1 in allProfiles():\n",
    "        r1_perms = list(permutations(profile_preflist(r1)))\n",
    "        for r2 in allProfiles():\n",
    "            if tuple(profile_preflist(r2)) in r1_perms:\n",
    "                for x in allAlternatives():\n",
    "                    # if x wins r1, x must also win r2\n",
    "                    cnf.append([negLiteral(r1,x), posLiteral(r2,x)])\n",
    "    return cnf\n",
    "\n",
    "def cnfNeutral():\n",
    "    # NEUTRALITY: if two profiles have the same preference rankings, but simply with swapped names per alternative, then the winner changes in a corresponding manner\n",
    "    cnf = []\n",
    "    for r1 in allProfiles():\n",
    "        for r2 in allProfiles():\n",
    "            cond, pe = align_profiles(r1,r2)\n",
    "            if cond:\n",
    "                # if these are the same when alternatives are permutated \n",
    "                for x in allAlternatives():\n",
    "                    # if some pe[x] is winner in r1 then the corresponding x must be the winner in r2\n",
    "                    cnf.append([negLiteral(r1,pe[x]), posLiteral(r2, x)])\n",
    "    return cnf"
   ]
  },
  {
   "cell_type": "code",
   "execution_count": null,
   "id": "83078f00-0d0c-4413-9cb5-9692e8dfd477",
   "metadata": {},
   "outputs": [],
   "source": [
    "axiom = {\n",
    "    'AtLeastOne' : cnfAtLeastOne(),\n",
    "    'Resolute' : cnfResolute(),\n",
    "    'StrategyProof' : cnfStrategyProof(),\n",
    "    'Surjective' : cnfSurjective(),\n",
    "    'NonDictatorial' : cnfNonDictatorial(),\n",
    "    'Majoritarian' : cnfMajoritarian(),\n",
    "    'Neutral' : cnfNeutral(),\n",
    "    'Anonymous' : cnfAnonymous()\n",
    "}\n",
    "\n",
    "def update_axiom():\n",
    "    \"\"\" Reset axiom list to help MUS descriptions \"\"\"\n",
    "    axiom = {\n",
    "        'AtLeastOne' : cnfAtLeastOne(),\n",
    "        'Resolute' : cnfResolute(),\n",
    "        'StrategyProof' : cnfStrategyProof(),\n",
    "        'Surjective' : cnfSurjective(),\n",
    "        'NonDictatorial' : cnfNonDictatorial(),\n",
    "        'Majoritarian' : cnfMajoritarian(),\n",
    "        'Anonymous' : cnfAnonymous(),\n",
    "        'Neutral' : cnfNeutral(),\n",
    "        \n",
    "    }\n",
    "    return axiom"
   ]
  },
  {
   "cell_type": "markdown",
   "id": "7bca5cc1-3a00-45b1-9361-4197be39abb2",
   "metadata": {},
   "source": [
    "### Case n,m=2,2"
   ]
  },
  {
   "cell_type": "code",
   "execution_count": null,
   "id": "08407cba-e6a7-477c-9cec-b1220117bc77",
   "metadata": {},
   "outputs": [],
   "source": [
    "def wrap_cnf():\n",
    "    \"\"\" Helper function to run code to solve CNF and extract MUS \"\"\"\n",
    "    print(len(cnfAnonymous()), len(cnfNeutral()))\n",
    "    cnf = cnfAnonymous() + cnfNeutral() + cnfResolute() + cnfAtLeastOne()\n",
    "    print(solve(cnf))\n",
    "    print(\"Number of satisfying models:\", len(list(enumModels(cnf))))\n",
    "    if len(list(enumModels(cnf))) == 0:\n",
    "        print()\n",
    "        print(getMUS(cnf))\n",
    "        print(explainCNF(getMUS(cnf)))"
   ]
  },
  {
   "cell_type": "code",
   "execution_count": null,
   "id": "b83c0d68-597a-459d-b5e8-dec5f8f25938",
   "metadata": {},
   "outputs": [],
   "source": [
    "n,m=2,2\n",
    "axiom = update_axiom()\n",
    "wrap_cnf()\n"
   ]
  },
  {
   "cell_type": "markdown",
   "id": "537e47f1-4e21-40d0-9e77-3e01e0d36618",
   "metadata": {},
   "source": [
    "### Case n,m=2,3"
   ]
  },
  {
   "cell_type": "code",
   "execution_count": null,
   "id": "9d040989-2d81-4cd9-bff1-df8f09440af0",
   "metadata": {},
   "outputs": [],
   "source": [
    "n,m=2,3\n",
    "axiom = update_axiom()\n",
    "wrap_cnf()"
   ]
  },
  {
   "cell_type": "markdown",
   "id": "fcf3239f-ff77-4897-8b4c-d27692556fee",
   "metadata": {},
   "source": [
    "### Case n,m=3,2"
   ]
  },
  {
   "cell_type": "code",
   "execution_count": null,
   "id": "a19ade2e-4347-494a-969a-e6bed676c1c6",
   "metadata": {},
   "outputs": [],
   "source": [
    "n,m=3,2\n",
    "axiom = update_axiom()\n",
    "wrap_cnf()"
   ]
  },
  {
   "cell_type": "markdown",
   "id": "bff87631-2819-4ea3-8528-d77386522fa6",
   "metadata": {},
   "source": [
    "### Case n,m=3,3"
   ]
  },
  {
   "cell_type": "code",
   "execution_count": null,
   "id": "ed9073fa-18d1-4446-be9b-c7838c5c8da3",
   "metadata": {},
   "outputs": [],
   "source": [
    "n,m=3,3\n",
    "axiom = update_axiom()\n",
    "wrap_cnf()"
   ]
  }
 ],
 "metadata": {
  "kernelspec": {
   "display_name": "Python 3 (ipykernel)",
   "language": "python",
   "name": "python3"
  },
  "language_info": {
   "codemirror_mode": {
    "name": "ipython",
    "version": 3
   },
   "file_extension": ".py",
   "mimetype": "text/x-python",
   "name": "python",
   "nbconvert_exporter": "python",
   "pygments_lexer": "ipython3",
   "version": "3.10.7"
  }
 },
 "nbformat": 4,
 "nbformat_minor": 5
}
