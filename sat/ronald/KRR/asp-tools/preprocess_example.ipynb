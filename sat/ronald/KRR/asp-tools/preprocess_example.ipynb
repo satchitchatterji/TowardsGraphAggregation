{
 "cells": [
  {
   "cell_type": "markdown",
   "metadata": {},
   "source": [
    "# Preprocessing ASP programs to a (ground) normal form\n",
    "\n",
    "All the syntactic convenience that you can use in logic programs (e.g., variables, constrained choice, etc) can be translated to logic programs in a particular normal form.\n",
    "\n",
    "Logic programs in this normal form have rules where the head either is empty, consists of a single atom, consists of a disjunction of several atoms, or consists of a choice of any subset of some list of atoms. The body of rules in this normal form consists of either a regular body (the conjunction of some positive and negative literals) or a single statement of the form `#sum { ... } >= b`.\n",
    "\n",
    "This translation to normal form involves adding some auxiliary atoms.\n",
    "\n",
    "We can take any program, and observe its translation to normal form."
   ]
  },
  {
   "cell_type": "code",
   "execution_count": 1,
   "metadata": {},
   "outputs": [],
   "source": [
    "from asp_tools import preprocess_program"
   ]
  },
  {
   "cell_type": "markdown",
   "metadata": {},
   "source": [
    "Let's take an example program."
   ]
  },
  {
   "cell_type": "code",
   "execution_count": 2,
   "metadata": {},
   "outputs": [],
   "source": [
    "program = \"\"\"\n",
    "    num(1..3).\n",
    "    val(1..3).\n",
    "    1 { map(N,V) : val(V) } 1 :- num(N).\n",
    "    1 { map(N,V) : num(N) } 1 :- val(V).\n",
    "    :- map(I,I).\n",
    "\"\"\""
   ]
  },
  {
   "cell_type": "markdown",
   "metadata": {},
   "source": [
    "Then this is what it looks like after preprocessing it into normal form."
   ]
  },
  {
   "cell_type": "code",
   "execution_count": 3,
   "metadata": {
    "scrolled": false
   },
   "outputs": [
    {
     "name": "stdout",
     "output_type": "stream",
     "text": [
      "num(1).\n",
      "num(2).\n",
      "num(3).\n",
      "val(1).\n",
      "val(2).\n",
      "val(3).\n",
      "a1.\n",
      "a2.\n",
      "a3.\n",
      "a4.\n",
      "a5.\n",
      "a6.\n",
      "a7.\n",
      "a8.\n",
      "a9.\n",
      "a10.\n",
      "a11.\n",
      "a12.\n",
      ":- map(1,1).\n",
      ":- map(2,2).\n",
      ":- map(3,3).\n",
      "{ map(1,1) ; map(1,2) ; map(1,3) } :- a7.\n",
      "a18 :- #sum { 1,map(1,1):map(1,1); 1,map(1,2):map(1,2); 1,map(1,3):map(1,3) } >= 1.\n",
      "a19 :- #sum { 1,map(1,1):map(1,1); 1,map(1,2):map(1,2); 1,map(1,3):map(1,3) } >= 2.\n",
      "a20 :- a18, not a19.\n",
      ":- a7, not a20.\n",
      "{ map(2,1) ; map(2,2) ; map(2,3) } :- a8.\n",
      "a23 :- #sum { 1,map(2,1):map(2,1); 1,map(2,2):map(2,2); 1,map(2,3):map(2,3) } >= 1.\n",
      "a24 :- #sum { 1,map(2,1):map(2,1); 1,map(2,2):map(2,2); 1,map(2,3):map(2,3) } >= 2.\n",
      "a25 :- a23, not a24.\n",
      ":- a8, not a25.\n",
      "{ map(3,1) ; map(3,2) ; map(3,3) } :- a9.\n",
      "a28 :- #sum { 1,map(3,1):map(3,1); 1,map(3,2):map(3,2); 1,map(3,3):map(3,3) } >= 1.\n",
      "a29 :- #sum { 1,map(3,1):map(3,1); 1,map(3,2):map(3,2); 1,map(3,3):map(3,3) } >= 2.\n",
      "a30 :- a28, not a29.\n",
      ":- a9, not a30.\n",
      "{ map(1,1) ; map(2,1) ; map(3,1) } :- a10.\n",
      "a31 :- #sum { 1,map(1,1):map(1,1); 1,map(2,1):map(2,1); 1,map(3,1):map(3,1) } >= 1.\n",
      "a32 :- #sum { 1,map(1,1):map(1,1); 1,map(2,1):map(2,1); 1,map(3,1):map(3,1) } >= 2.\n",
      "a33 :- a31, not a32.\n",
      ":- a10, not a33.\n",
      "{ map(1,2) ; map(2,2) ; map(3,2) } :- a11.\n",
      "a34 :- #sum { 1,map(1,2):map(1,2); 1,map(2,2):map(2,2); 1,map(3,2):map(3,2) } >= 1.\n",
      "a35 :- #sum { 1,map(1,2):map(1,2); 1,map(2,2):map(2,2); 1,map(3,2):map(3,2) } >= 2.\n",
      "a36 :- a34, not a35.\n",
      ":- a11, not a36.\n",
      "{ map(1,3) ; map(2,3) ; map(3,3) } :- a12.\n",
      "a37 :- #sum { 1,map(1,3):map(1,3); 1,map(2,3):map(2,3); 1,map(3,3):map(3,3) } >= 1.\n",
      "a38 :- #sum { 1,map(1,3):map(1,3); 1,map(2,3):map(2,3); 1,map(3,3):map(3,3) } >= 2.\n",
      "a39 :- a37, not a38.\n",
      ":- a12, not a39.\n",
      "#show.\n",
      "#show num(1) : num(1).\n",
      "#show num(2) : num(2).\n",
      "#show num(3) : num(3).\n",
      "#show val(1) : val(1).\n",
      "#show val(2) : val(2).\n",
      "#show val(3) : val(3).\n",
      "#show map(1,1) : map(1,1).\n",
      "#show map(2,1) : map(2,1).\n",
      "#show map(3,1) : map(3,1).\n",
      "#show map(1,2) : map(1,2).\n",
      "#show map(2,2) : map(2,2).\n",
      "#show map(3,2) : map(3,2).\n",
      "#show map(1,3) : map(1,3).\n",
      "#show map(2,3) : map(2,3).\n",
      "#show map(3,3) : map(3,3).\n",
      "\n"
     ]
    }
   ],
   "source": [
    "print(preprocess_program(program))"
   ]
  }
 ],
 "metadata": {
  "kernelspec": {
   "display_name": "Python 3 (ipykernel)",
   "language": "python",
   "name": "python3"
  },
  "language_info": {
   "codemirror_mode": {
    "name": "ipython",
    "version": 3
   },
   "file_extension": ".py",
   "mimetype": "text/x-python",
   "name": "python",
   "nbconvert_exporter": "python",
   "pygments_lexer": "ipython3",
   "version": "3.9.12"
  }
 },
 "nbformat": 4,
 "nbformat_minor": 4
}
